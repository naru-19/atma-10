{
  "nbformat": 4,
  "nbformat_minor": 0,
  "metadata": {
    "colab": {
      "name": "atma_10.ipynb",
      "provenance": [],
      "collapsed_sections": [
        "nl2joOswszKQ",
        "N8meiV4zi6IJ",
        "XhxzItVIC154"
      ]
    },
    "kernelspec": {
      "name": "python3",
      "display_name": "Python 3"
    }
  },
  "cells": [
    {
      "cell_type": "code",
      "metadata": {
        "id": "YamvQhtpVovV"
      },
      "source": [
        "!pip install mlxtend\n",
        "!pip install ptitprince\n",
        "!pip install lightgbm\n",
        "!pip install mlxtend\n",
        "!pip install ptitprince\n",
        "!pip install RainCloud"
      ],
      "execution_count": 1,
      "outputs": []
    },
    {
      "cell_type": "code",
      "metadata": {
        "id": "_rdAk_FFXVbw",
        "colab": {
          "base_uri": "https://localhost:8080/"
        },
        "outputId": "099303df-b68b-4a95-a6d2-0ac58a4289ff"
      },
      "source": [
        "\n",
        "# Googleドライブへのマウント\n",
        "from google.colab import drive\n",
        "drive.mount('/content/drive')\n",
        "%cd \"/content/drive/My Drive/\""
      ],
      "execution_count": 1,
      "outputs": [
        {
          "output_type": "stream",
          "text": [
            "Mounted at /content/drive\n",
            "/content/drive/My Drive\n"
          ],
          "name": "stdout"
        }
      ]
    },
    {
      "cell_type": "code",
      "metadata": {
        "id": "IX_siEzH0f3K"
      },
      "source": [
        "# import sys\n",
        "# sys.path.append('/content/drive/MyDrive/Colab Notebooks/pip')"
      ],
      "execution_count": 2,
      "outputs": []
    },
    {
      "cell_type": "code",
      "metadata": {
        "id": "Fqlor7UNyWY5"
      },
      "source": [
        "# !pip install --target /content/drive/MyDrive/Colab\\ Notebooks/pip ptitprince"
      ],
      "execution_count": 4,
      "outputs": []
    },
    {
      "cell_type": "code",
      "metadata": {
        "id": "AM1DjU4rerDe"
      },
      "source": [
        "import pandas as pd\n",
        "import os\n",
        "import numpy as np\n",
        "from matplotlib_venn import venn2\n",
        "import matplotlib.pyplot as plt\n",
        "import seaborn as sns\n",
        "from ptitprince import RainCloud"
      ],
      "execution_count": 3,
      "outputs": []
    },
    {
      "cell_type": "code",
      "metadata": {
        "id": "XMzI6-seew3Q"
      },
      "source": [
        "INPUT_DIR=\"dataset/atma10\"\n",
        "OUTPUT_DIR=\"Colab Notebooks/atma#10/output\""
      ],
      "execution_count": 5,
      "outputs": []
    },
    {
      "cell_type": "markdown",
      "metadata": {
        "id": "yHTH0ve2s8Na"
      },
      "source": [
        "#データ読み込み"
      ]
    },
    {
      "cell_type": "code",
      "metadata": {
        "id": "eN8AYgwMeeg8"
      },
      "source": [
        "train_df=pd.read_csv(os.path.join(INPUT_DIR,\"train.csv\"))\n",
        "test_df=pd.read_csv(os.path.join(INPUT_DIR,\"test.csv\"))\n",
        "color_df=pd.read_csv(os.path.join(INPUT_DIR,\"color.csv\"))\n",
        "person_df=pd.read_csv(os.path.join(INPUT_DIR,\"historical_person.csv\"))\n",
        "maker_df=pd.read_csv(os.path.join(INPUT_DIR,\"maker.csv\"))\n",
        "material_df=pd.read_csv(os.path.join(INPUT_DIR,\"material.csv\"))\n",
        "palette_df=pd.read_csv(os.path.join(INPUT_DIR,\"palette.csv\"))\n",
        "tech_df=pd.read_csv(os.path.join(INPUT_DIR,\"technique.csv\"))\n",
        "proplace_df=pd.read_csv(os.path.join(INPUT_DIR,\"production_place.csv\"))"
      ],
      "execution_count": 6,
      "outputs": []
    },
    {
      "cell_type": "markdown",
      "metadata": {
        "id": "nl2joOswszKQ"
      },
      "source": [
        "#EDA"
      ]
    },
    {
      "cell_type": "code",
      "metadata": {
        "id": "hQHruQ1QfXz5"
      },
      "source": [
        "# わかりやすさのため底を 10 とした log 変換\n",
        "train_df['log_likes'] = np.log10(train_df['likes'] + 1)"
      ],
      "execution_count": 32,
      "outputs": []
    },
    {
      "cell_type": "code",
      "metadata": {
        "id": "cZaLnT7Ixmgb"
      },
      "source": [
        "fig, ax = plt.subplots(figsize=(8, 5))\n",
        "RainCloud(data=train_df, y='log_likes', orient='h', ax=ax)\n",
        "ax.grid()"
      ],
      "execution_count": null,
      "outputs": []
    },
    {
      "cell_type": "code",
      "metadata": {
        "id": "vEiMg0LUEScg"
      },
      "source": [
        "desc_length = train_df['description'].str.len().rename('desc_length')\n",
        "fig, ax = plt.subplots(figsize=(20, 6))\n",
        "RainCloud(y=train_df['log_likes'], \n",
        "          x=pd.cut(desc_length, bins=10, duplicates='drop'), ax=ax)\n",
        "ax.grid()"
      ],
      "execution_count": null,
      "outputs": []
    },
    {
      "cell_type": "code",
      "metadata": {
        "id": "Tt1MDWKkEBDo"
      },
      "source": [
        "sub_title_length = train_df['sub_title'].str.len().rename('subtitle_length')\n",
        "fig, ax = plt.subplots(figsize=(20, 6))\n",
        "RainCloud(y=train_df['log_likes'], \n",
        "          x=pd.cut(sub_title_length, bins=10, duplicates='drop'), ax=ax)\n",
        "ax.grid()"
      ],
      "execution_count": null,
      "outputs": []
    },
    {
      "cell_type": "markdown",
      "metadata": {
        "id": "6VL9YvEU-Dzf"
      },
      "source": [
        "#特徴量の作成"
      ]
    },
    {
      "cell_type": "code",
      "metadata": {
        "id": "HwNnvgDv06Lb"
      },
      "source": [
        "class AbstractBaseBlock:\n",
        "    def fit(self, input_df: pd.DataFrame, y=None):\n",
        "        return self.transform(input_df)\n",
        "    \n",
        "    def transform(self, input_df: pd.DataFrame) -> pd.DataFrame:\n",
        "        raise NotImplementedError()"
      ],
      "execution_count": 7,
      "outputs": []
    },
    {
      "cell_type": "code",
      "metadata": {
        "id": "Bd5LR_rfCyIb"
      },
      "source": [
        "def run_blocks(input_df, blocks, y=None, test=False):\n",
        "    out_df = pd.DataFrame()\n",
        "    \n",
        "    print(decorate('start run blocks...'))\n",
        "\n",
        "    with Timer(prefix='run test={}'.format(test)):\n",
        "        for block in feature_blocks:\n",
        "            with Timer(prefix='\\t- {}'.format(str(block))):\n",
        "                if not test:\n",
        "                    out_i = block.fit(input_df, y=y)\n",
        "                else:\n",
        "                    out_i = block.transform(input_df)\n",
        "\n",
        "            assert len(input_df) == len(out_i), block\n",
        "            name = block.__class__.__name__\n",
        "            out_df = pd.concat([out_df, out_i.add_suffix(f'@{name}')], axis=1)\n",
        "        \n",
        "    return out_df"
      ],
      "execution_count": 8,
      "outputs": []
    },
    {
      "cell_type": "code",
      "metadata": {
        "id": "OOTiD0z7D_7_"
      },
      "source": [
        "# https://github.com/nyk510/vivid/blob/master/vivid/utils.py\n",
        "from time import time\n",
        "\n",
        "def decorate(s: str, decoration=None):\n",
        "    if decoration is None:\n",
        "        decoration = '★' * 20\n",
        "        \n",
        "    return ' '.join([decoration, str(s), decoration])\n",
        "\n",
        "class Timer:\n",
        "    def __init__(self, logger=None, format_str='{:.3f}[s]', prefix=None, suffix=None, sep=' ', verbose=0):\n",
        "\n",
        "        if prefix: format_str = str(prefix) + sep + format_str\n",
        "        if suffix: format_str = format_str + sep + str(suffix)\n",
        "        self.format_str = format_str\n",
        "        self.logger = logger\n",
        "        self.start = None\n",
        "        self.end = None\n",
        "        self.verbose = verbose\n",
        "\n",
        "    @property\n",
        "    def duration(self):\n",
        "        if self.end is None:\n",
        "            return 0\n",
        "        return self.end - self.start\n",
        "\n",
        "    def __enter__(self):\n",
        "        self.start = time()\n",
        "\n",
        "    def __exit__(self, exc_type, exc_val, exc_tb):\n",
        "        self.end = time()\n",
        "        if self.verbose is None:\n",
        "            return\n",
        "        out_str = self.format_str.format(self.duration)\n",
        "        if self.logger:\n",
        "            self.logger.info(out_str)\n",
        "        else:\n",
        "            print(out_str)"
      ],
      "execution_count": 9,
      "outputs": []
    },
    {
      "cell_type": "markdown",
      "metadata": {
        "id": "X7zrfcgrizY-"
      },
      "source": [
        "##text以外の特徴量"
      ]
    },
    {
      "cell_type": "code",
      "metadata": {
        "id": "2VVwyExIDZFx"
      },
      "source": [
        "class StringLengthBlock(AbstractBaseBlock):\n",
        "    def __init__(self, column):\n",
        "        self.column = column\n",
        "    \n",
        "    def transform(self, input_df):\n",
        "        out_df = pd.DataFrame()\n",
        "        out_df[self.column] = input_df[self.column].str.len()\n",
        "        return out_df.add_prefix('StringLength_')"
      ],
      "execution_count": 10,
      "outputs": []
    },
    {
      "cell_type": "code",
      "metadata": {
        "id": "hMfkimZ4De3n"
      },
      "source": [
        "class SizeAreaBlock(AbstractBaseBlock):\n",
        "    def __init__(self, column):\n",
        "        self.column = column\n",
        "    \n",
        "    def transform(self, input_df):\n",
        "        out_df = pd.DataFrame()\n",
        "        for axis in ['h', 'w', 't', 'd']:\n",
        "            column_name = f'size_{axis}'\n",
        "            size_info = input_df['sub_title'].str.extract(r'{} (\\d*|\\d*\\.\\d*)(cm|mm)'.format(axis)) # 正規表現を使ってサイズを抽出\n",
        "            size_info = size_info.rename(columns={0: column_name, 1: 'unit'})\n",
        "            size_info[column_name] = size_info[column_name].replace('', np.nan).astype(float) # dtypeがobjectになってるのでfloatに直す\n",
        "            size_info[column_name] = size_info.apply(lambda row: row[column_name] * 10 if row['unit'] == 'cm' else row[column_name], axis=1) # 　単位をmmに統一する\n",
        "            out_df[column_name] = size_info[column_name] # inputにくっつける\n",
        "        out_df[\"AreaSize\"]=out_df[\"size_h\"]*out_df[\"size_w\"]/100\n",
        "        return out_df"
      ],
      "execution_count": 11,
      "outputs": []
    },
    {
      "cell_type": "code",
      "metadata": {
        "id": "k0WXahBW-plq"
      },
      "source": [
        "class OneHotEncoding(AbstractBaseBlock):\n",
        "    def __init__(self, column, min_count=30):\n",
        "        self.column = column\n",
        "        self.min_count = min_count\n",
        "        \n",
        "    def fit(self, input_df, y=None):\n",
        "        x = input_df[self.column]\n",
        "        vc = x.value_counts()\n",
        "        categories = vc[vc > self.min_count].index\n",
        "        self.categories_ = categories\n",
        "        \n",
        "        return self.transform(input_df)\n",
        "    \n",
        "    def transform(self, input_df):\n",
        "        x = input_df[self.column]\n",
        "        cat = pd.Categorical(x, categories=self.categories_)\n",
        "        out_df = pd.get_dummies(cat)\n",
        "        out_df.columns = out_df.columns.tolist()\n",
        "        return out_df.add_prefix(f'{self.column}=')"
      ],
      "execution_count": 12,
      "outputs": []
    },
    {
      "cell_type": "code",
      "metadata": {
        "id": "lK1SifBrDGaq"
      },
      "source": [
        "def read_whole_df():\n",
        "    return pd.concat([\n",
        "        pd.read_csv(os.path.join(INPUT_DIR,\"train.csv\")),pd.read_csv(os.path.join(INPUT_DIR,\"test.csv\"))\n",
        "    ], ignore_index=True)\n",
        "\n",
        "class CountEncodingBlock(AbstractBaseBlock):\n",
        "    \"\"\"CountEncodingを行なう block\"\"\"\n",
        "    def __init__(self, column: str):\n",
        "        self.column = column\n",
        "\n",
        "    def fit(self, input_df, y=None):\n",
        "#         vc = input_df[self.column].value_counts()\n",
        "        master_df = read_whole_df()\n",
        "        vc = master_df[self.column].value_counts()\n",
        "        self.count_ = vc\n",
        "        return self.transform(input_df)\n",
        "\n",
        "    def transform(self, input_df):\n",
        "        out_df = pd.DataFrame()\n",
        "        out_df[self.column] = input_df[self.column].map(self.count_)\n",
        "        return out_df.add_prefix('CE_')"
      ],
      "execution_count": 13,
      "outputs": []
    },
    {
      "cell_type": "code",
      "metadata": {
        "id": "a7auvpt3sCBg"
      },
      "source": [
        "OBJECT_ID = 'object_id'\n",
        "def left_join(left, right, on=OBJECT_ID):\n",
        "    if isinstance(left, pd.DataFrame):\n",
        "        left = left[on]\n",
        "    return pd.merge(left, right, on=on, how='left').drop(columns=[on])"
      ],
      "execution_count": 14,
      "outputs": []
    },
    {
      "cell_type": "code",
      "metadata": {
        "id": "PWDVwgvri8of"
      },
      "source": [
        "def create_palette_feature(input_df):\n",
        "    output_df = input_df.copy()\n",
        "    palette = palette_df\n",
        "\n",
        "    # ratio最大のものを取得\n",
        "    max_palette = palette.groupby('object_id')['ratio'].max().reset_index()\n",
        "    max_palette = pd.merge(max_palette, palette, on=['object_id','ratio'], how='left').rename(\n",
        "        columns={\"ratio\":\"max_ratio\", \"color_r\":\"max_palette_r\", \"color_g\":\"max_palette_g\",\"color_b\":\"max_palette_b\"})  \n",
        "    max_palette = max_palette.loc[max_palette[\"object_id\"].drop_duplicates().index.tolist()].reset_index()  # 同じidでmax ratioが同じものは削除\n",
        "    output_df = pd.merge(output_df, max_palette, on=\"object_id\", how=\"left\")\n",
        "\n",
        "    # 平均のrgbを取得\n",
        "    mean_palette = palette.copy()\n",
        "    mean_palette[\"color_r\"] = palette[\"ratio\"] * palette[\"color_r\"]\n",
        "    mean_palette[\"color_g\"] = palette[\"ratio\"] * palette[\"color_g\"]\n",
        "    mean_palette[\"color_b\"] = palette[\"ratio\"] * palette[\"color_b\"]\n",
        "    mean_palette = mean_palette.groupby(\"object_id\").sum().reset_index().rename(\n",
        "        columns={\"color_r\":\"mean_palette_r\", \"color_g\":\"mean_palette_g\",\"color_b\":\"mean_palette_b\"})\n",
        "    output_df = pd.merge(output_df, mean_palette, on=\"object_id\", how=\"left\")\n",
        "\n",
        "    use_columns = [\"object_id\",\"max_ratio\", \"max_palette_r\",\"max_palette_g\",\"max_palette_b\",\"mean_palette_r\",\"mean_palette_g\",\"mean_palette_b\"]\n",
        "    return output_df[use_columns]"
      ],
      "execution_count": 15,
      "outputs": []
    },
    {
      "cell_type": "code",
      "metadata": {
        "id": "YdLDETsuM6n1"
      },
      "source": [
        "class PaletteBlock(AbstractBaseBlock):\n",
        "    def fit(self, input_df, y=None):\n",
        "        self.agg_df_=create_palette_feature(input_df)\n",
        "        return self.transform(input_df)\n",
        "    \n",
        "    def transform(self, input_df):\n",
        "        out_df = left_join(input_df, self.agg_df_)\n",
        "        return out_df.add_prefix(f'PaletteBlock_name=')"
      ],
      "execution_count": 16,
      "outputs": []
    },
    {
      "cell_type": "code",
      "metadata": {
        "id": "DwS_yGBDBoVc"
      },
      "source": [
        "class TakeTimeBlock(AbstractBaseBlock):\n",
        "    def __init__(self):\n",
        "        pass\n",
        "    def transform(self, input_df):\n",
        "        y=[ ]\n",
        "        # out_df = pd.DataFrame()\n",
        "        for i in range(input_df.shape[0]):\n",
        "            takeyears=input_df[\"dating_year_late\"][i]-input_df[\"dating_year_early\"][i]\n",
        "            y.append(takeyears)\n",
        "        out_df=pd.DataFrame(y)\n",
        "        return out_df"
      ],
      "execution_count": 17,
      "outputs": []
    },
    {
      "cell_type": "code",
      "metadata": {
        "id": "tqxMEmacBd-Q"
      },
      "source": [
        "class TargetEncodingBlock(AbstractBaseBlock):\n",
        "    def __init__(self,column):\n",
        "        self.column=column\n",
        "    def transform(self, input_df):\n",
        "        "
      ],
      "execution_count": null,
      "outputs": []
    },
    {
      "cell_type": "code",
      "metadata": {
        "id": "HDdClVb8UqgV"
      },
      "source": [
        "feature_blocks = [\n",
        "    TakeTimeBlock()\n",
        "]"
      ],
      "execution_count": 18,
      "outputs": []
    },
    {
      "cell_type": "code",
      "metadata": {
        "id": "WKjfRzL_TclY"
      },
      "source": [
        "# block=Ac_credit_Encoding()\n",
        "train_check_df=run_blocks(train_df, blocks=feature_blocks)\n",
        "train_check_df"
      ],
      "execution_count": null,
      "outputs": []
    },
    {
      "cell_type": "code",
      "metadata": {
        "id": "jRqabxO_qSTd"
      },
      "source": [
        "class MaterialBlock(AbstractBaseBlock):\n",
        "    def __init__(self, min_count=30):\n",
        "        self.min_count = min_count\n",
        "    \n",
        "    def fit(self, input_df, y=None):\n",
        "        # material_df = read_csv('material')\n",
        "        \n",
        "        vc = material_df['name'].value_counts()\n",
        "        # 出現回数30以上に絞る\n",
        "        use_names = vc[vc >= self.min_count].index\n",
        "\n",
        "        # isin で 30 回以上でてくるようなレコードに絞り込んでから corsstab を行なう\n",
        "        idx = material_df['name'].isin(use_names)\n",
        "        _use_df = material_df[idx].reset_index(drop=True)\n",
        "        \n",
        "        self.agg_df_ = pd.crosstab(_use_df['object_id'], _use_df['name'])\n",
        "        return self.transform(input_df)\n",
        "    \n",
        "    def transform(self, input_df):\n",
        "        out_df = left_join(input_df, self.agg_df_)\n",
        "        return out_df.add_prefix(f'MaterialBlock_name=')"
      ],
      "execution_count": 19,
      "outputs": []
    },
    {
      "cell_type": "code",
      "metadata": {
        "id": "h-DjQkDpMgVj"
      },
      "source": [
        "class TechBlock(AbstractBaseBlock):\n",
        "    def __init__(self, min_count=30):\n",
        "        self.min_count = min_count\n",
        "    \n",
        "    def fit(self, input_df, y=None):\n",
        "        \n",
        "        \n",
        "        vc = tech_df['name'].value_counts()\n",
        "        # 出現回数30以上に絞る\n",
        "        use_names = vc[vc >= self.min_count].index\n",
        "\n",
        "        # isin で 30 回以上でてくるようなレコードに絞り込んでから corsstab を行なう\n",
        "        idx = tech_df['name'].isin(use_names)\n",
        "        _use_df = tech_df[idx].reset_index(drop=True)\n",
        "        \n",
        "        self.agg_df_ = pd.crosstab(_use_df['object_id'], _use_df['name'])\n",
        "        return self.transform(input_df)\n",
        "    \n",
        "    def transform(self, input_df):\n",
        "        out_df = left_join(input_df, self.agg_df_)\n",
        "        return out_df.add_prefix(f'TechniqueBlock_name=')"
      ],
      "execution_count": 20,
      "outputs": []
    },
    {
      "cell_type": "code",
      "metadata": {
        "id": "jAokQtgYlSab"
      },
      "source": [
        "class ProductionPlaceBlock(AbstractBaseBlock):\n",
        "    def __init__(self, min_count=10):\n",
        "        self.min_count = min_count\n",
        "    \n",
        "    def fit(self, input_df, y=None):\n",
        "        \n",
        "        # proplace_df\n",
        "        vc = proplace_df['name'].value_counts()\n",
        "        # 出現回数30以上に絞る\n",
        "        use_names = vc[vc >= self.min_count].index\n",
        "\n",
        "        # isin で 30 回以上でてくるようなレコードに絞り込んでから corsstab を行なう\n",
        "        idx =proplace_df['name'].isin(use_names)\n",
        "        _use_df = proplace_df[idx].reset_index(drop=True)\n",
        "        \n",
        "        self.agg_df_ = pd.crosstab(_use_df['object_id'], _use_df['name'])\n",
        "        return self.transform(input_df)\n",
        "    \n",
        "    def transform(self, input_df):\n",
        "        out_df = left_join(input_df, self.agg_df_)\n",
        "        return out_df.add_prefix(f'proplace_dfBlock_name=')"
      ],
      "execution_count": 21,
      "outputs": []
    },
    {
      "cell_type": "code",
      "metadata": {
        "id": "vH3kvrsoRG8T"
      },
      "source": [
        "class HistoricalPersonBlock(AbstractBaseBlock):\n",
        "    def __init__(self, min_count=30):\n",
        "        self.min_count = min_count\n",
        "    \n",
        "    def fit(self, input_df, y=None):\n",
        "        vc = person_df['name'].value_counts()\n",
        "        # 出現回数30以上に絞る\n",
        "        use_names = vc[vc >= self.min_count].index\n",
        "\n",
        "        # isin で 30 回以上でてくるようなレコードに絞り込んでから corsstab を行なう\n",
        "        idx = person_df['name'].isin(use_names)\n",
        "        _use_df = person_df[idx].reset_index(drop=True)\n",
        "        \n",
        "        self.agg_df_ = pd.crosstab(_use_df['object_id'], _use_df['name'])\n",
        "        return self.transform(input_df)\n",
        "    \n",
        "    def transform(self, input_df):\n",
        "        out_df = left_join(input_df, self.agg_df_)\n",
        "        return out_df.add_prefix(f'HistoricalPersonBlock_name=')"
      ],
      "execution_count": 22,
      "outputs": []
    },
    {
      "cell_type": "markdown",
      "metadata": {
        "id": "N8meiV4zi6IJ"
      },
      "source": [
        "##text特徴量"
      ]
    },
    {
      "cell_type": "code",
      "metadata": {
        "id": "vBR85A7Mi9FG"
      },
      "source": [
        "!pip install texthero"
      ],
      "execution_count": null,
      "outputs": []
    },
    {
      "cell_type": "code",
      "metadata": {
        "id": "1IHm142MjJGQ"
      },
      "source": [
        "import texthero as hero\n",
        "import nltk\n",
        "\n",
        "nltk.download('stopwords')\n",
        "os.listdir(os.path.expanduser('~/nltk_data/corpora/stopwords/'))"
      ],
      "execution_count": null,
      "outputs": []
    },
    {
      "cell_type": "code",
      "metadata": {
        "id": "0s_UzX2sjxm_"
      },
      "source": [
        "from sklearn.feature_extraction.text import TfidfVectorizer\n",
        "from sklearn.decomposition import TruncatedSVD\n",
        "from sklearn.pipeline import Pipeline"
      ],
      "execution_count": 25,
      "outputs": []
    },
    {
      "cell_type": "code",
      "metadata": {
        "id": "G03YmpHJjNm5"
      },
      "source": [
        "def text_normalization(text):\n",
        "    \n",
        "    # 英語とオランダ語を stopword として指定\n",
        "    custom_stopwords = nltk.corpus.stopwords.words('dutch') + nltk.corpus.stopwords.words('english')\n",
        "\n",
        "    x = hero.clean(text, pipeline=[\n",
        "        hero.preprocessing.fillna,\n",
        "        hero.preprocessing.lowercase,\n",
        "        hero.preprocessing.remove_digits,\n",
        "        hero.preprocessing.remove_punctuation,\n",
        "        hero.preprocessing.remove_diacritics,\n",
        "        lambda x: hero.preprocessing.remove_stopwords(x, stopwords=custom_stopwords)\n",
        "    ])\n",
        "    \n",
        "    return x\n",
        "\n",
        "class TfidfBlock(AbstractBaseBlock):\n",
        "    \"\"\"tfidf x SVD による圧縮を行なう block\"\"\"\n",
        "    def __init__(self, column: str):\n",
        "        \"\"\"\n",
        "        args:\n",
        "            column: str\n",
        "                変換対象のカラム名\n",
        "        \"\"\"\n",
        "        self.column = column\n",
        "    \n",
        "    def preprocess(self, input_df):\n",
        "        x = text_normalization(input_df[self.column])\n",
        "        return x\n",
        "    \n",
        "    def get_master(self, input_df):\n",
        "        \"\"\"tdidfを計算するための全体集合を返す. \n",
        "        デフォルトでは fit でわたされた dataframe を使うが, もっと別のデータを使うのも考えられる.\"\"\"\n",
        "        return input_df\n",
        "    \n",
        "    def fit(self, input_df, y=None):\n",
        "        master_df = self.get_master(input_df)\n",
        "        text = self.preprocess(input_df)\n",
        "        self.pileline_ = Pipeline([\n",
        "            ('tfidf', TfidfVectorizer(max_features=10000)),\n",
        "            ('svd', TruncatedSVD(n_components=50)),\n",
        "        ])\n",
        "        \n",
        "        self.pileline_.fit(text)\n",
        "        return self.transform(input_df)\n",
        "    \n",
        "    def transform(self, input_df):\n",
        "        text = self.preprocess(input_df)\n",
        "        z = self.pileline_.transform(text)\n",
        "        \n",
        "        out_df = pd.DataFrame(z)\n",
        "        return out_df.add_prefix(f'{self.column}_tfidf_')"
      ],
      "execution_count": 26,
      "outputs": []
    },
    {
      "cell_type": "markdown",
      "metadata": {
        "id": "XhxzItVIC154"
      },
      "source": [
        "##確認用"
      ]
    },
    {
      "cell_type": "code",
      "metadata": {
        "id": "9p6Hc0ohDCpA"
      },
      "source": [
        "# feature_blocks = [\n",
        "#     *[OneHotEncoding(c, min_count=20) for c in ['title', 'description', 'long_title',\n",
        "#        'principal_maker', 'principal_or_first_maker', 'sub_title',\n",
        "#        'copyright_holder', 'more_title', 'acquisition_method',\n",
        "#        'acquisition_date', 'acquisition_credit_line', 'dating_presenting_date',\n",
        "#        'dating_sorting_date', 'dating_period', 'dating_year_early',\n",
        "#        'dating_year_late',]],\n",
        "#     *[CountEncodingBlock(c) for c in ['art_series_id', 'title', 'description', 'long_title',\n",
        "#        'principal_maker', 'principal_or_first_maker', 'sub_title',\n",
        "#        'copyright_holder', 'more_title', 'acquisition_method',\n",
        "#        'acquisition_date', 'acquisition_credit_line', 'dating_presenting_date',\n",
        "#        'dating_sorting_date', 'dating_period', 'dating_year_early',\n",
        "#        'dating_year_late',]],\n",
        "#     *[StringLengthBlock(c) for c in [\n",
        "#         'title', 'description', 'long_title',\n",
        "#        'principal_maker', 'principal_or_first_maker', 'sub_title',\n",
        "#     ]],\n",
        "#     *[SizeAreaBlock(c) for c in [\n",
        "#         'sub_title',\n",
        "#     ]]\n",
        "# ]"
      ],
      "execution_count": 30,
      "outputs": []
    },
    {
      "cell_type": "code",
      "metadata": {
        "id": "CsmrJtgnC9J_"
      },
      "source": [
        "# run_blocks(train_df, blocks=feature_blocks)\n",
        "# run_blocks(test_df, blocks=feature_blocks, test=True)"
      ],
      "execution_count": 31,
      "outputs": []
    },
    {
      "cell_type": "markdown",
      "metadata": {
        "id": "qxiOL9OSEtav"
      },
      "source": [
        "##学習"
      ]
    },
    {
      "cell_type": "code",
      "metadata": {
        "colab": {
          "base_uri": "https://localhost:8080/"
        },
        "id": "Kzm-o_h0E1jO",
        "outputId": "a2297c77-16a4-4840-cf2d-ed7d8e7e0076"
      },
      "source": [
        "feature_blocks = [\n",
        "    *[OneHotEncoding(c, min_count=20) for c in ['title', 'description', 'long_title',\n",
        "       'principal_maker', 'principal_or_first_maker', 'sub_title',\n",
        "       'copyright_holder', 'more_title', 'acquisition_method',\n",
        "       'acquisition_date', 'acquisition_credit_line', 'dating_presenting_date',\n",
        "       'dating_sorting_date', 'dating_period', 'dating_year_early',\n",
        "       'dating_year_late',]],\n",
        "    *[CountEncodingBlock(c) for c in ['art_series_id', 'title', 'description', 'long_title',\n",
        "       'principal_maker', 'principal_or_first_maker', 'sub_title',\n",
        "       'copyright_holder', 'more_title', 'acquisition_method',\n",
        "       'acquisition_date', 'acquisition_credit_line', 'dating_presenting_date',\n",
        "       'dating_sorting_date', 'dating_period', 'dating_year_early',\n",
        "       'dating_year_late',]],\n",
        "    *[StringLengthBlock(c) for c in [\n",
        "        'title', 'description', 'long_title',\n",
        "       'principal_maker', 'principal_or_first_maker', 'sub_title',\n",
        "    ]],\n",
        "    *[SizeAreaBlock(c) for c in [\n",
        "        'sub_title',\n",
        "    ]],\n",
        "    # PaletteBlock(),\n",
        "    ProductionPlaceBlock(),\n",
        "    MaterialBlock(),\n",
        "    TechBlock(),\n",
        "    HistoricalPersonBlock(),\n",
        "    TakeTimeBlock(),\n",
        "    TfidfBlock('description'),\n",
        "    # TfidfBlock('acquisition_method'),\n",
        "    TfidfBlock('title'),\n",
        "    TfidfBlock('long_title')\n",
        "]\n",
        "train_feat_df = run_blocks(train_df, blocks=feature_blocks, test=False)"
      ],
      "execution_count": 27,
      "outputs": [
        {
          "output_type": "stream",
          "text": [
            "★★★★★★★★★★★★★★★★★★★★ start run blocks... ★★★★★★★★★★★★★★★★★★★★\n",
            "\t- <__main__.OneHotEncoding object at 0x7f11476af250> 0.032[s]\n",
            "\t- <__main__.OneHotEncoding object at 0x7f11476af210> 0.009[s]\n",
            "\t- <__main__.OneHotEncoding object at 0x7f11476af1d0> 0.009[s]\n",
            "\t- <__main__.OneHotEncoding object at 0x7f11476af410> 0.008[s]\n",
            "\t- <__main__.OneHotEncoding object at 0x7f11476af450> 0.008[s]\n",
            "\t- <__main__.OneHotEncoding object at 0x7f11476af4d0> 0.009[s]\n",
            "\t- <__main__.OneHotEncoding object at 0x7f11476af510> 0.007[s]\n",
            "\t- <__main__.OneHotEncoding object at 0x7f11476af550> 0.010[s]\n",
            "\t- <__main__.OneHotEncoding object at 0x7f11476af590> 0.004[s]\n",
            "\t- <__main__.OneHotEncoding object at 0x7f11476af490> 0.006[s]\n",
            "\t- <__main__.OneHotEncoding object at 0x7f11476af5d0> 0.006[s]\n",
            "\t- <__main__.OneHotEncoding object at 0x7f11476af610> 0.007[s]\n",
            "\t- <__main__.OneHotEncoding object at 0x7f11476af650> 0.009[s]\n",
            "\t- <__main__.OneHotEncoding object at 0x7f11476af690> 0.003[s]\n",
            "\t- <__main__.OneHotEncoding object at 0x7f11476af6d0> 0.008[s]\n",
            "\t- <__main__.OneHotEncoding object at 0x7f11476af710> 0.008[s]\n",
            "\t- <__main__.CountEncodingBlock object at 0x7f11476af750> 0.270[s]\n",
            "\t- <__main__.CountEncodingBlock object at 0x7f11476af790> 0.256[s]\n",
            "\t- <__main__.CountEncodingBlock object at 0x7f11476af7d0> 0.261[s]\n",
            "\t- <__main__.CountEncodingBlock object at 0x7f11476af810> 0.270[s]\n",
            "\t- <__main__.CountEncodingBlock object at 0x7f11476af850> 0.245[s]\n",
            "\t- <__main__.CountEncodingBlock object at 0x7f11476af8d0> 0.254[s]\n",
            "\t- <__main__.CountEncodingBlock object at 0x7f11476af910> 0.257[s]\n",
            "\t- <__main__.CountEncodingBlock object at 0x7f11476af950> 0.254[s]\n",
            "\t- <__main__.CountEncodingBlock object at 0x7f11476af990> 0.259[s]\n",
            "\t- <__main__.CountEncodingBlock object at 0x7f11476af890> 0.248[s]\n",
            "\t- <__main__.CountEncodingBlock object at 0x7f11476af9d0> 0.244[s]\n",
            "\t- <__main__.CountEncodingBlock object at 0x7f11476afa10> 0.253[s]\n",
            "\t- <__main__.CountEncodingBlock object at 0x7f11476afa50> 0.251[s]\n",
            "\t- <__main__.CountEncodingBlock object at 0x7f11476afa90> 0.257[s]\n",
            "\t- <__main__.CountEncodingBlock object at 0x7f11476afad0> 0.245[s]\n",
            "\t- <__main__.CountEncodingBlock object at 0x7f11476afb10> 0.247[s]\n",
            "\t- <__main__.CountEncodingBlock object at 0x7f11476afb50> 0.241[s]\n",
            "\t- <__main__.StringLengthBlock object at 0x7f11476afb90> 0.007[s]\n",
            "\t- <__main__.StringLengthBlock object at 0x7f11476afbd0> 0.007[s]\n",
            "\t- <__main__.StringLengthBlock object at 0x7f11476afc10> 0.007[s]\n",
            "\t- <__main__.StringLengthBlock object at 0x7f11476afc50> 0.006[s]\n",
            "\t- <__main__.StringLengthBlock object at 0x7f11476afc90> 0.006[s]\n",
            "\t- <__main__.StringLengthBlock object at 0x7f11476afd10> 0.007[s]\n",
            "\t- <__main__.SizeAreaBlock object at 0x7f11476afd50> 0.712[s]\n",
            "\t- <__main__.ProductionPlaceBlock object at 0x7f11476af290> 0.248[s]\n",
            "\t- <__main__.MaterialBlock object at 0x7f11476afd90> 0.272[s]\n",
            "\t- <__main__.TechBlock object at 0x7f11476afdd0> 0.173[s]\n",
            "\t- <__main__.HistoricalPersonBlock object at 0x7f11476afe10> 0.045[s]\n",
            "\t- <__main__.TakeTimeBlock object at 0x7f11476afe50> 0.162[s]\n",
            "\t- <__main__.TfidfBlock object at 0x7f11476afe90> 5.679[s]\n",
            "\t- <__main__.TfidfBlock object at 0x7f11476afed0> 2.173[s]\n",
            "\t- <__main__.TfidfBlock object at 0x7f11476aff10> 3.206[s]\n",
            "run test=False 17.625[s]\n"
          ],
          "name": "stdout"
        }
      ]
    },
    {
      "cell_type": "code",
      "metadata": {
        "id": "2L0w8GWRE9Zu"
      },
      "source": [
        "import lightgbm as lgbm\n",
        "from sklearn.metrics import mean_squared_error\n",
        "from typing import Union, Optional, Iterable\n",
        "\n",
        "def fit_lgbm(X: np.ndarray, \n",
        "             y: np.ndarray, \n",
        "             cv: Iterable, \n",
        "             y_max: Optional[float] = None,\n",
        "             params: Optional[dict] = None, \n",
        "             verbose: Optional[int] =50):\n",
        "    \"\"\"lightGBM を CrossValidation の枠組みで学習を行なう function\"\"\"\n",
        "\n",
        "    # パラメータがないときは、空の dict で置き換える\n",
        "    if params is None:\n",
        "        params = {}\n",
        "    is_silent = verbose is None\n",
        "    is_cut_y = y_max is not None\n",
        "        \n",
        "    models = []\n",
        "    # training data の target と同じだけのゼロ配列を用意\n",
        "    oof_pred = np.zeros_like(y, dtype=np.float)\n",
        "    for i, (idx_train, idx_valid) in enumerate(cv): \n",
        "        # この部分が交差検証のところです。データセットを cv instance によって分割します\n",
        "        # training data を trian/valid に分割\n",
        "        x_train, y_train = X[idx_train], y[idx_train]\n",
        "        x_valid, y_valid = X[idx_valid], y[idx_valid]\n",
        "        \n",
        "        # 最大値が決まっている場合, 学習するデータだけ丸めを行なう\n",
        "        if is_cut_y:\n",
        "            idx_use = y_train < y_max\n",
        "            y_train = np.where(idx_use, y_train, y_max)\n",
        "        clf = lgbm.LGBMRegressor(**params)\n",
        "\n",
        "        with Timer(prefix='fit fold={} '.format(i), verbose=verbose):\n",
        "            clf.fit(x_train, y_train, \n",
        "                    eval_set=[(x_valid, y_valid)],  \n",
        "                    early_stopping_rounds=100,\n",
        "                    verbose=verbose)\n",
        "\n",
        "        pred_i = clf.predict(x_valid)\n",
        "        oof_pred[idx_valid] = pred_i\n",
        "        models.append(clf)\n",
        "        \n",
        "        if not is_silent:\n",
        "            print(f'Fold {i} RMSLE: {mean_squared_error(y_valid, pred_i) ** .5:.4f}')\n",
        "\n",
        "    if not is_silent:\n",
        "        score = mean_squared_error(y, oof_pred) ** .5\n",
        "        print('Whole RMSLE: {:.4f}'.format(score))\n",
        "    return oof_pred, models,score\n",
        "\n",
        "params = {\n",
        "    # 目的関数. これの意味で最小となるようなパラメータを探します. \n",
        "    'objective': 'rmse', \n",
        "\n",
        "     # 学習率. 小さいほどなめらかな決定境界が作られて性能向上に繋がる場合が多いです、\n",
        "    # がそれだけ木を作るため学習に時間がかかります\n",
        "    'learning_rate': .1,\n",
        "\n",
        "    # L2 Reguralization\n",
        "    'reg_lambda': 1.,\n",
        "    # こちらは L1 \n",
        "    'reg_alpha': .1,\n",
        "\n",
        "    # 木の深さ. 深い木を許容するほどより複雑な交互作用を考慮するようになります\n",
        "    'max_depth': 5, \n",
        "\n",
        "    # 木の最大数. early_stopping という枠組みで木の数は制御されるようにしていますのでとても大きい値を指定しておきます.\n",
        "    'n_estimators': 10000, \n",
        "\n",
        "    # 木を作る際に考慮する特徴量の割合. 1以下を指定すると特徴をランダムに欠落させます。小さくすることで, まんべんなく特徴を使うという効果があります.\n",
        "    'colsample_bytree': .5, \n",
        "\n",
        "    # 最小分割でのデータ数. 小さいとより細かい粒度の分割方法を許容します.\n",
        "    'min_child_samples': 10,\n",
        "\n",
        "    # bagging の頻度と割合\n",
        "    'subsample_freq': 3,\n",
        "    'subsample': .9,\n",
        "\n",
        "    # 特徴重要度計算のロジック(後述)\n",
        "    'importance_type': 'gain', \n",
        "    'random_state': 0,\n",
        "}\n",
        "\n",
        "y = train_df['likes'].values\n",
        "y = np.log1p(y)\n",
        "from sklearn.model_selection import KFold\n",
        "\n",
        "fold = KFold(n_splits=5, shuffle=True, random_state=71)\n",
        "cv = list(fold.split(train_feat_df, y)) # もともとが generator なため明示的に list に変換する\n",
        "\n"
      ],
      "execution_count": 28,
      "outputs": []
    },
    {
      "cell_type": "code",
      "metadata": {
        "id": "SyrEZ-YWwExR"
      },
      "source": [
        "print(decorate('start training'))\n",
        "oof, models,cv_score = fit_lgbm(train_feat_df.values, y, cv, params=params, verbose=500)\n",
        "print(decorate('FINISHED'))"
      ],
      "execution_count": null,
      "outputs": []
    },
    {
      "cell_type": "code",
      "metadata": {
        "id": "hx7QO0TNE-kL"
      },
      "source": [
        "def visualize_importance(models, feat_train_df):\n",
        "    \"\"\"lightGBM の model 配列の feature importance を plot する\n",
        "    CVごとのブレを boxen plot として表現します.\n",
        "\n",
        "    args:\n",
        "        models:\n",
        "            List of lightGBM models\n",
        "        feat_train_df:\n",
        "            学習時に使った DataFrame\n",
        "    \"\"\"\n",
        "    feature_importance_df = pd.DataFrame()\n",
        "    for i, model in enumerate(models):\n",
        "        _df = pd.DataFrame()\n",
        "        _df['feature_importance'] = model.feature_importances_\n",
        "        _df['column'] = feat_train_df.columns\n",
        "        _df['fold'] = i + 1\n",
        "        feature_importance_df = pd.concat([feature_importance_df, _df], \n",
        "                                          axis=0, ignore_index=True)\n",
        "\n",
        "    order = feature_importance_df.groupby('column')\\\n",
        "        .sum()[['feature_importance']]\\\n",
        "        .sort_values('feature_importance', ascending=False).index[:50]\n",
        "\n",
        "    fig, ax = plt.subplots(figsize=(8, max(6, len(order) * .25)))\n",
        "    sns.boxenplot(data=feature_importance_df, \n",
        "                  x='feature_importance', \n",
        "                  y='column', \n",
        "                  order=order, \n",
        "                  ax=ax, \n",
        "                  palette='viridis', \n",
        "                  orient='h')\n",
        "    ax.tick_params(axis='x', rotation=90)\n",
        "    ax.set_title('Importance')\n",
        "    ax.grid()\n",
        "    fig.tight_layout()\n",
        "    return fig, ax\n",
        "\n",
        "fig, ax = visualize_importance(models, train_feat_df)"
      ],
      "execution_count": null,
      "outputs": []
    },
    {
      "cell_type": "code",
      "metadata": {
        "id": "5PtS6KkMFFZs"
      },
      "source": [
        "test_feat_df = run_blocks(input_df=test_df, blocks=feature_blocks, test=True)"
      ],
      "execution_count": null,
      "outputs": []
    },
    {
      "cell_type": "code",
      "metadata": {
        "id": "7QkgqdjyFHSr"
      },
      "source": [
        "def revert_to_real(y_log):\n",
        "    _pred = np.expm1(y_log)\n",
        "    _pred = np.where(_pred < 0, 0, _pred)\n",
        "    return _pred\n",
        "pred = np.array([model.predict(test_feat_df.values) for model in models])\n",
        "pred = np.mean(pred, axis=0)\n",
        "pred = revert_to_real(pred)\n",
        "sub_df = pd.DataFrame({ 'likes': pred })\n",
        "sub_df.to_csv(os.path.join(OUTPUT_DIR, str(num)+'__submission.csv'), index=False)"
      ],
      "execution_count": 67,
      "outputs": []
    },
    {
      "cell_type": "code",
      "metadata": {
        "colab": {
          "base_uri": "https://localhost:8080/",
          "height": 483
        },
        "id": "71CXOtIGFIPm",
        "outputId": "b713771e-bbf3-438a-d79a-2cf87aafadfa"
      },
      "source": [
        "fig, ax = plt.subplots(figsize=(8, 8))\n",
        "sns.histplot(np.log1p(pred), label='Test Predict', ax=ax, color='black')\n",
        "sns.histplot(oof, label='Out Of Fold', ax=ax, color='C1')\n",
        "ax.legend()\n",
        "ax.grid()"
      ],
      "execution_count": 68,
      "outputs": [
        {
          "output_type": "display_data",
          "data": {
            "image/png": "[encoded data removed]",
            "text/plain": [
              "<Figure size 576x576 with 1 Axes>"
            ]
          },
          "metadata": {
            "tags": [],
            "needs_background": "light"
          }
        }
      ]
    },
    {
      "cell_type": "markdown",
      "metadata": {
        "id": "1WbWrzQNiogC"
      },
      "source": [
        "#記録用"
      ]
    },
    {
      "cell_type": "code",
      "metadata": {
        "id": "tVBkikfTtNQv"
      },
      "source": [
        "num=8\n",
        "zipname=str(num)+\"sub\""
      ],
      "execution_count": 66,
      "outputs": []
    },
    {
      "cell_type": "code",
      "metadata": {
        "colab": {
          "base_uri": "https://localhost:8080/",
          "height": 35
        },
        "id": "LqHCaNqRFQiA",
        "outputId": "d4e63667-7e3c-4f5c-a6df-c572cffb41b3"
      },
      "source": [
        "# たとえばこんな感じで実行したら notebook をコピーするとかもいいかも\n",
        "import shutil\n",
        "\n",
        "shutil.copy('Colab Notebooks/atma#10/atma_10.ipynb', OUTPUT_DIR)\n",
        "if num>1:\n",
        "    os.remove(os.path.join(OUTPUT_DIR, str(num-1)+'__submission.csv'))\n",
        "# まとめて zipfile 化するという手もある\n",
        "shutil.make_archive(os.path.join(os.path.dirname(OUTPUT_DIR), zipname), 'zip', OUTPUT_DIR)\n",
        "\n"
      ],
      "execution_count": 72,
      "outputs": [
        {
          "output_type": "execute_result",
          "data": {
            "application/vnd.google.colaboratory.intrinsic+json": {
              "type": "string"
            },
            "text/plain": [
              "'/content/drive/My Drive/Colab Notebooks/atma#10/7sub.zip'"
            ]
          },
          "metadata": {
            "tags": []
          },
          "execution_count": 72
        }
      ]
    },
    {
      "cell_type": "code",
      "metadata": {
        "id": "ZhiQd60nm36A"
      },
      "source": [
        "public=0.9949\n",
        "private=1.0165"
      ],
      "execution_count": 69,
      "outputs": []
    },
    {
      "cell_type": "code",
      "metadata": {
        "id": "REBcdQSwm3uL"
      },
      "source": [
        "break"
      ],
      "execution_count": null,
      "outputs": []
    },
    {
      "cell_type": "code",
      "metadata": {
        "id": "wpR33aG9lFH6"
      },
      "source": [
        "li=[[num,'{:.5f}'.format(cv_score),public,private]]\n",
        "df = pd.DataFrame(li)\n",
        "df.columns = [\"n\",\"CV\",\"public\",\"private\"]\n",
        "df.to_csv(os.path.join(OUTPUT_DIR, 'sublog.csv'),mode=\"a\",header=False,index=False)\n"
      ],
      "execution_count": 70,
      "outputs": []
    },
    {
      "cell_type": "code",
      "metadata": {
        "id": "cqjBSowiw3sE",
        "colab": {
          "base_uri": "https://localhost:8080/",
          "height": 283
        },
        "outputId": "f17f2c53-2971-4d1f-8db0-9dbf427ed240"
      },
      "source": [
        "from matplotlib.ticker import *\n",
        "\n",
        "sub_df=pd.read_csv(os.path.join(OUTPUT_DIR, 'sublog.csv'))\n",
        "x=sub_df[\"n\"]\n",
        "y=sub_df[\"CV\"]\n",
        "y2=sub_df[\"public\"]\n",
        "fig = plt.figure()\n",
        "ax = fig.add_subplot(1,1,1)\n",
        "ax.scatter(x,y, c='b',label=\"CV\")\n",
        "ax.scatter(x,y2, c='r',label=\"public\")\n",
        "ax.set_xlabel('n')\n",
        "ax.set_ylabel('score')\n",
        "ax.legend(loc='upper right')\n",
        "ax.xaxis.set_major_locator(MultipleLocator(1)) \n",
        "plt.ylim(0.95,1.1)\n",
        "ax.grid(True)\n",
        "fig.show()\n",
        "plt.savefig(os.path.join(OUTPUT_DIR,'subdata.png'))"
      ],
      "execution_count": 71,
      "outputs": [
        {
          "output_type": "display_data",
          "data": {
            "image/png": "[encoded data removed]",
            "text/plain": [
              "<Figure size 432x288 with 1 Axes>"
            ]
          },
          "metadata": {
            "tags": [],
            "needs_background": "light"
          }
        }
      ]
    },
    {
      "cell_type": "code",
      "metadata": {
        "id": "fT4WeGPTmtgG"
      },
      "source": [
        "#1 baseline\n",
        "#2 tfidf\n",
        "#3 matelial\n",
        "#4 technique\n",
        "#7 何年かけて作ったか"
      ],
      "execution_count": 48,
      "outputs": []
    },
    {
      "cell_type": "code",
      "metadata": {
        "id": "gpnpptYHRape"
      },
      "source": [
        ""
      ],
      "execution_count": null,
      "outputs": []
    }
  ]
}