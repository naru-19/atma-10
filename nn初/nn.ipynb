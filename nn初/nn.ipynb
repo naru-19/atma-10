{
  "nbformat": 4,
  "nbformat_minor": 0,
  "metadata": {
    "colab": {
      "name": "atma_10.ipynb",
      "provenance": [],
      "collapsed_sections": [
        "nl2joOswszKQ"
      ]
    },
    "kernelspec": {
      "name": "python3",
      "display_name": "Python 3"
    }
  },
  "cells": [
    {
      "cell_type": "code",
      "metadata": {
        "id": "YamvQhtpVovV"
      },
      "source": [
        "# !pip install mlxtend\n",
        "# !pip install ptitprince\n",
        "# !pip install lightgbm\n",
        "# !pip install mlxtend\n",
        "# !pip install ptitprince\n",
        "# !pip install RainCloud\n"
      ],
      "execution_count": 1,
      "outputs": []
    },
    {
      "cell_type": "code",
      "metadata": {
        "id": "_rdAk_FFXVbw",
        "colab": {
          "base_uri": "https://localhost:8080/"
        },
        "outputId": "fb6b0cf1-8722-48f5-cc2e-8dc2f8237af4"
      },
      "source": [
        "\n",
        "# Googleドライブへのマウント\n",
        "from google.colab import drive\n",
        "drive.mount('/content/drive')\n",
        "%cd \"/content/drive/My Drive/\""
      ],
      "execution_count": 84,
      "outputs": [
        {
          "output_type": "stream",
          "text": [
            "Drive already mounted at /content/drive; to attempt to forcibly remount, call drive.mount(\"/content/drive\", force_remount=True).\n",
            "/content/drive/My Drive\n"
          ],
          "name": "stdout"
        }
      ]
    },
    {
      "cell_type": "code",
      "metadata": {
        "colab": {
          "base_uri": "https://localhost:8080/"
        },
        "id": "QtFYHFaK65PE",
        "outputId": "77de80f5-4012-4657-b38b-8e8470542ed9"
      },
      "source": [
        "tr_x.shape"
      ],
      "execution_count": 87,
      "outputs": [
        {
          "output_type": "execute_result",
          "data": {
            "text/plain": [
              "(7500, 59)"
            ]
          },
          "metadata": {
            "tags": []
          },
          "execution_count": 87
        }
      ]
    },
    {
      "cell_type": "code",
      "metadata": {
        "id": "ADIH1pzH69XX"
      },
      "source": [
        ""
      ],
      "execution_count": null,
      "outputs": []
    },
    {
      "cell_type": "code",
      "metadata": {
        "id": "IX_siEzH0f3K"
      },
      "source": [
        "import sys\n",
        "sys.path.append('/content/drive/MyDrive/Colab Notebooks/pip')"
      ],
      "execution_count": 3,
      "outputs": []
    },
    {
      "cell_type": "code",
      "metadata": {
        "id": "AM1DjU4rerDe"
      },
      "source": [
        "import pandas as pd\n",
        "import os\n",
        "import numpy as np\n",
        "from matplotlib_venn import venn2\n",
        "import matplotlib.pyplot as plt\n",
        "import seaborn as sns\n",
        "from ptitprince import RainCloud"
      ],
      "execution_count": 4,
      "outputs": []
    },
    {
      "cell_type": "code",
      "metadata": {
        "id": "Fqlor7UNyWY5"
      },
      "source": [
        "# !pip install --target /content/drive/MyDrive/Colab\\ Notebooks/pip pandas"
      ],
      "execution_count": 5,
      "outputs": []
    },
    {
      "cell_type": "code",
      "metadata": {
        "id": "XMzI6-seew3Q"
      },
      "source": [
        "INPUT_DIR=\"dataset/atma10\"\n",
        "OUTPUT_DIR=\"Colab Notebooks/atma#10/output\""
      ],
      "execution_count": 6,
      "outputs": []
    },
    {
      "cell_type": "markdown",
      "metadata": {
        "id": "yHTH0ve2s8Na"
      },
      "source": [
        "#データ読み込み"
      ]
    },
    {
      "cell_type": "code",
      "metadata": {
        "id": "eN8AYgwMeeg8"
      },
      "source": [
        "train_df=pd.read_csv(os.path.join(INPUT_DIR,\"train.csv\"))\n",
        "test_df=pd.read_csv(os.path.join(INPUT_DIR,\"test.csv\"))\n",
        "color_df=pd.read_csv(os.path.join(INPUT_DIR,\"color.csv\"))\n",
        "person_df=pd.read_csv(os.path.join(INPUT_DIR,\"historical_person.csv\"))\n",
        "maker_df=pd.read_csv(os.path.join(INPUT_DIR,\"maker.csv\"))\n",
        "material_df=pd.read_csv(os.path.join(INPUT_DIR,\"material.csv\"))\n",
        "palette_df=pd.read_csv(os.path.join(INPUT_DIR,\"palette.csv\"))\n",
        "tech_df=pd.read_csv(os.path.join(INPUT_DIR,\"technique.csv\"))\n",
        "proplace_df=pd.read_csv(os.path.join(INPUT_DIR,\"production_place.csv\"))\n",
        "# pm_occupation_df=pd.read_csv(os.path.join(INPUT_DIR,\"principal_maker_occupation.csv\"))\n",
        "principalmaker_df=pd.read_csv(os.path.join(INPUT_DIR,\"principal_maker.csv\"))\n",
        "collection_df=pd.read_csv(os.path.join(INPUT_DIR,\"object_collection.csv\"))"
      ],
      "execution_count": 7,
      "outputs": []
    },
    {
      "cell_type": "markdown",
      "metadata": {
        "id": "nl2joOswszKQ"
      },
      "source": [
        "#EDA"
      ]
    },
    {
      "cell_type": "code",
      "metadata": {
        "id": "hQHruQ1QfXz5"
      },
      "source": [
        "# わかりやすさのため底を 10 とした log 変換\n",
        "train_df['log_likes'] = np.log10(train_df['likes'] + 1)"
      ],
      "execution_count": 8,
      "outputs": []
    },
    {
      "cell_type": "code",
      "metadata": {
        "colab": {
          "base_uri": "https://localhost:8080/",
          "height": 335
        },
        "id": "cZaLnT7Ixmgb",
        "outputId": "3f8d1d6d-fd3f-4af4-fe4c-ac2ac967c633"
      },
      "source": [
        "fig, ax = plt.subplots(figsize=(8, 5))\n",
        "RainCloud(data=train_df, y='log_likes', orient='h', ax=ax)\n",
        "ax.grid()"
      ],
      "execution_count": 9,
      "outputs": [
        {
          "output_type": "display_data",
          "data": {
            "image/png": "[encoded data removed]",
            "text/plain": [
              "<Figure size 576x360 with 1 Axes>"
            ]
          },
          "metadata": {
            "tags": [],
            "needs_background": "light"
          }
        }
      ]
    },
    {
      "cell_type": "markdown",
      "metadata": {
        "id": "6VL9YvEU-Dzf"
      },
      "source": [
        "#特徴量の作成"
      ]
    },
    {
      "cell_type": "code",
      "metadata": {
        "id": "HwNnvgDv06Lb"
      },
      "source": [
        "class AbstractBaseBlock:\n",
        "    def fit(self, input_df: pd.DataFrame, y=None):\n",
        "        return self.transform(input_df)\n",
        "    \n",
        "    def transform(self, input_df: pd.DataFrame) -> pd.DataFrame:\n",
        "        raise NotImplementedError()"
      ],
      "execution_count": 10,
      "outputs": []
    },
    {
      "cell_type": "code",
      "metadata": {
        "id": "Bd5LR_rfCyIb"
      },
      "source": [
        "def run_blocks(input_df, blocks, y=None, test=False):\n",
        "    out_df = pd.DataFrame()\n",
        "    \n",
        "    print(decorate('start run blocks...'))\n",
        "\n",
        "    with Timer(prefix='run test={}'.format(test)):\n",
        "        for block in feature_blocks:\n",
        "            with Timer(prefix='\\t- {}'.format(str(block))):\n",
        "                if not test:\n",
        "                    out_i = block.fit(input_df, y=y)\n",
        "                else:\n",
        "                    out_i = block.transform(input_df)\n",
        "\n",
        "            assert len(input_df) == len(out_i), block\n",
        "            name = block.__class__.__name__\n",
        "            out_df = pd.concat([out_df, out_i.add_suffix(f'@{name}')], axis=1)\n",
        "        \n",
        "    return out_df"
      ],
      "execution_count": 11,
      "outputs": []
    },
    {
      "cell_type": "code",
      "metadata": {
        "id": "OOTiD0z7D_7_"
      },
      "source": [
        "# https://github.com/nyk510/vivid/blob/master/vivid/utils.py\n",
        "from time import time\n",
        "\n",
        "def decorate(s: str, decoration=None):\n",
        "    if decoration is None:\n",
        "        decoration = '★' * 20\n",
        "        \n",
        "    return ' '.join([decoration, str(s), decoration])\n",
        "\n",
        "class Timer:\n",
        "    def __init__(self, logger=None, format_str='{:.3f}[s]', prefix=None, suffix=None, sep=' ', verbose=0):\n",
        "\n",
        "        if prefix: format_str = str(prefix) + sep + format_str\n",
        "        if suffix: format_str = format_str + sep + str(suffix)\n",
        "        self.format_str = format_str\n",
        "        self.logger = logger\n",
        "        self.start = None\n",
        "        self.end = None\n",
        "        self.verbose = verbose\n",
        "\n",
        "    @property\n",
        "    def duration(self):\n",
        "        if self.end is None:\n",
        "            return 0\n",
        "        return self.end - self.start\n",
        "\n",
        "    def __enter__(self):\n",
        "        self.start = time()\n",
        "\n",
        "    def __exit__(self, exc_type, exc_val, exc_tb):\n",
        "        self.end = time()\n",
        "        if self.verbose is None:\n",
        "            return\n",
        "        out_str = self.format_str.format(self.duration)\n",
        "        if self.logger:\n",
        "            self.logger.info(out_str)\n",
        "        else:\n",
        "            print(out_str)"
      ],
      "execution_count": 12,
      "outputs": []
    },
    {
      "cell_type": "markdown",
      "metadata": {
        "id": "X7zrfcgrizY-"
      },
      "source": [
        "##text以外の特徴量"
      ]
    },
    {
      "cell_type": "code",
      "metadata": {
        "id": "2VVwyExIDZFx"
      },
      "source": [
        "class StringLengthBlock(AbstractBaseBlock):\n",
        "    def __init__(self, column):\n",
        "        self.column = column\n",
        "    \n",
        "    def transform(self, input_df):\n",
        "        out_df = pd.DataFrame()\n",
        "        out_df[self.column] = input_df[self.column].str.len()\n",
        "        return out_df.add_prefix('StringLength_')"
      ],
      "execution_count": 13,
      "outputs": []
    },
    {
      "cell_type": "code",
      "metadata": {
        "id": "hMfkimZ4De3n"
      },
      "source": [
        "class SizeAreaBlock(AbstractBaseBlock):\n",
        "    def __init__(self, column):\n",
        "        self.column = column\n",
        "    \n",
        "    def transform(self, input_df):\n",
        "        out_df = pd.DataFrame()\n",
        "        for axis in ['h', 'w', 't', 'd']:\n",
        "            column_name = f'size_{axis}'\n",
        "            size_info = input_df['sub_title'].str.extract(r'{} (\\d*|\\d*\\.\\d*)(cm|mm)'.format(axis)) # 正規表現を使ってサイズを抽出\n",
        "            size_info = size_info.rename(columns={0: column_name, 1: 'unit'})\n",
        "            size_info[column_name] = size_info[column_name].replace('', np.nan).astype(float) # dtypeがobjectになってるのでfloatに直す\n",
        "            size_info[column_name] = size_info.apply(lambda row: row[column_name] * 10 if row['unit'] == 'cm' else row[column_name], axis=1) # 　単位をmmに統一する\n",
        "            out_df[column_name] = size_info[column_name] # inputにくっつける\n",
        "        out_df[\"AreaSize\"]=out_df[\"size_h\"]*out_df[\"size_w\"]/100\n",
        "        return out_df"
      ],
      "execution_count": 14,
      "outputs": []
    },
    {
      "cell_type": "code",
      "metadata": {
        "id": "k0WXahBW-plq"
      },
      "source": [
        "class OneHotEncoding(AbstractBaseBlock):\n",
        "    def __init__(self, column, min_count=30):\n",
        "        self.column = column\n",
        "        self.min_count = min_count\n",
        "        \n",
        "    def fit(self, input_df, y=None):\n",
        "        x = input_df[self.column]\n",
        "        vc = x.value_counts()\n",
        "        categories = vc[vc > self.min_count].index\n",
        "        self.categories_ = categories\n",
        "        \n",
        "        return self.transform(input_df)\n",
        "    \n",
        "    def transform(self, input_df):\n",
        "        x = input_df[self.column]\n",
        "        cat = pd.Categorical(x, categories=self.categories_)\n",
        "        out_df = pd.get_dummies(cat)\n",
        "        out_df.columns = out_df.columns.tolist()\n",
        "        return out_df.add_prefix(f'{self.column}=')"
      ],
      "execution_count": 15,
      "outputs": []
    },
    {
      "cell_type": "code",
      "metadata": {
        "id": "lK1SifBrDGaq"
      },
      "source": [
        "def read_whole_df():\n",
        "    return pd.concat([\n",
        "        pd.read_csv(os.path.join(INPUT_DIR,\"train.csv\")),pd.read_csv(os.path.join(INPUT_DIR,\"test.csv\"))\n",
        "    ], ignore_index=True)\n",
        "\n",
        "class CountEncodingBlock(AbstractBaseBlock):\n",
        "    \"\"\"CountEncodingを行なう block\"\"\"\n",
        "    def __init__(self, column: str):\n",
        "        self.column = column\n",
        "\n",
        "    def fit(self, input_df, y=None):\n",
        "#         vc = input_df[self.column].value_counts()\n",
        "        master_df = read_whole_df()\n",
        "        vc = master_df[self.column].value_counts()\n",
        "        self.count_ = vc\n",
        "        return self.transform(input_df)\n",
        "\n",
        "    def transform(self, input_df):\n",
        "        out_df = pd.DataFrame()\n",
        "        out_df[self.column] = input_df[self.column].map(self.count_)\n",
        "        return out_df.add_prefix('CE_')"
      ],
      "execution_count": 16,
      "outputs": []
    },
    {
      "cell_type": "code",
      "metadata": {
        "id": "a7auvpt3sCBg"
      },
      "source": [
        "OBJECT_ID = 'object_id'\n",
        "def left_join(left, right, on=OBJECT_ID):\n",
        "    if isinstance(left, pd.DataFrame):\n",
        "        left = left[on]\n",
        "    return pd.merge(left, right, on=on, how='left').drop(columns=[on])"
      ],
      "execution_count": 17,
      "outputs": []
    },
    {
      "cell_type": "code",
      "metadata": {
        "id": "DwS_yGBDBoVc"
      },
      "source": [
        "class TakeTimeBlock(AbstractBaseBlock):\n",
        "    def __init__(self):\n",
        "        pass\n",
        "    def transform(self, input_df):\n",
        "        y=[ ]\n",
        "        # out_df = pd.DataFrame()\n",
        "        for i in range(input_df.shape[0]):\n",
        "            takeyears=input_df[\"dating_year_late\"][i]-input_df[\"dating_year_early\"][i]\n",
        "            y.append(takeyears)\n",
        "        out_df=pd.DataFrame(y)\n",
        "        return out_df"
      ],
      "execution_count": 18,
      "outputs": []
    },
    {
      "cell_type": "code",
      "metadata": {
        "id": "WKFMtdSd6kIy"
      },
      "source": [
        "class PaletteBlock(AbstractBaseBlock):\n",
        "    def __init__(self):\n",
        "        _object_id=\"000405d9a5e3f49fc49d\"\n",
        "        self._palette_df=pd.DataFrame()\n",
        "        max=0\n",
        "        li_r=[]\n",
        "        li_g=[]\n",
        "        li_b=[]\n",
        "        objectid=[]\n",
        "        k=0\n",
        "        for i in range(palette_df.shape[0]):\n",
        "            if palette_df[\"object_id\"][i]==_object_id:\n",
        "                if max<palette_df[\"ratio\"][i]:\n",
        "                    max=palette_df[\"ratio\"][i]\n",
        "                    r=palette_df[\"color_r\"][i]\n",
        "                    g=palette_df[\"color_g\"][i]\n",
        "                    b=palette_df[\"color_b\"][i]\n",
        "            else:\n",
        "                li_r.append(r)\n",
        "                li_g.append(g)\n",
        "                li_b.append(b)\n",
        "                objectid.append(_object_id)\n",
        "                k+=1\n",
        "                max=palette_df[\"ratio\"][i]\n",
        "                _object_id= palette_df[\"object_id\"][i]\n",
        "        self._palette_df[\"object_id\"]=objectid\n",
        "        self._palette_df[\"maxhex_r\"]=li_r\n",
        "        self._palette_df[\"maxhex_g\"]=li_g\n",
        "        self._palette_df[\"maxhex_b\"]=li_b\n",
        "\n",
        "\n",
        "    def transform(self, input_df):\n",
        "        out_df=pd.DataFrame()\n",
        "        out_df =left_join(input_df,self._palette_df)\n",
        "\n",
        "        return out_df"
      ],
      "execution_count": 19,
      "outputs": []
    },
    {
      "cell_type": "code",
      "metadata": {
        "id": "xnGitDYuu1kJ"
      },
      "source": [
        "class ColorBlock(AbstractBaseBlock):\n",
        "    def __init__(self):\n",
        "        _object_id=\"001020bd00b149970f78\"\n",
        "        self._color_df=pd.DataFrame()\n",
        "        max=0\n",
        "        li_r=[]\n",
        "        li_g=[]\n",
        "        li_b=[]\n",
        "        objectid=[]\n",
        "        k=0\n",
        "        for i in range(color_df.shape[0]):\n",
        "            if color_df[\"object_id\"][i]==_object_id:\n",
        "                if max<color_df[\"percentage\"][i]:\n",
        "                    max=color_df[\"percentage\"][i]\n",
        "                    hex=color_df[\"hex\"][i]\n",
        "            else:\n",
        "                if hex[0]==\"#\":\n",
        "                    li_r.append(int(int(\"0x\"+hex[1]+hex[2],16)))\n",
        "                    li_g.append(int(int(\"0x\"+hex[3]+hex[4],16)))\n",
        "                    li_b.append(int(int(\"0x\"+hex[5]+hex[6],16)))\n",
        "                elif hex[0]==\" \":\n",
        "                    li_r.append(int(int(\"0x\"+hex[2]+hex[3],16)))\n",
        "                    li_g.append(int(int(\"0x\"+hex[4]+hex[5],16)))\n",
        "                    li_b.append(int(int(\"0x\"+hex[6]+hex[7],16)))\n",
        "                objectid.append(_object_id)\n",
        "                k+=1\n",
        "                max=color_df[\"percentage\"][i]\n",
        "                _object_id= color_df[\"object_id\"][i]\n",
        "        self._color_df[\"object_id\"]=objectid\n",
        "        self._color_df[\"maxhex_r\"]=li_r\n",
        "        self._color_df[\"maxhex_g\"]=li_g\n",
        "        self._color_df[\"maxhex_b\"]=li_b\n",
        "        self._color_df[\"meanhex\"]=0\n",
        "        for i in range(self._color_df.shape[0]):\n",
        "            self._color_df[\"meanhex\"][i]=(li_r[i]+li_g[i]+li_b[i])/3\n",
        "\n",
        "    def transform(self, input_df):\n",
        "        out_df=pd.DataFrame()\n",
        "        out_df =left_join(input_df,self._color_df)\n",
        "        # out_df=out_df.fillna({\"maxhex_r\":_color_df[\"maxhex_r\"].mean(),\"maxhex_g\":_color_df[\"maxhex_g\"].mean(),\"maxhex_b\":_color_df[\"maxhex_b\"].mean()})\n",
        "\n",
        "        return out_df"
      ],
      "execution_count": 20,
      "outputs": []
    },
    {
      "cell_type": "code",
      "metadata": {
        "id": "P4vohW7kEML3"
      },
      "source": [
        "pm_df=principalmaker_df.drop([\"roles\",\"id\",\"productionPlaces\",\"maker_name\"],axis=1)\n",
        "class PrincipalMakerBlock(AbstractBaseBlock):\n",
        "    def __init__(self, min_count=30):\n",
        "        self.min_count = min_count\n",
        "    def fit(self, input_df, y=None):\n",
        "        # material_df = read_csv('material')\n",
        "        \n",
        "        vc =pm_df['qualification'].value_counts()\n",
        "        # 出現回数30以上に絞る\n",
        "        use_names = vc[vc >= self.min_count].index\n",
        "\n",
        "        # isin で 30 回以上でてくるようなレコードに絞り込んでから corsstab を行なう\n",
        "        idx = pm_df['qualification'].isin(use_names)\n",
        "        _use_df = pm_df[idx].reset_index(drop=True)\n",
        "        \n",
        "        self.agg_df_ = pd.crosstab(_use_df['object_id'], _use_df['qualification'])\n",
        "        return self.transform(input_df)\n",
        "    \n",
        "    def transform(self, input_df):\n",
        "        out_df = left_join(input_df, self.agg_df_)\n",
        "        return out_df.add_prefix(f'PrincipalMakerBlock_name=')"
      ],
      "execution_count": 21,
      "outputs": []
    },
    {
      "cell_type": "code",
      "metadata": {
        "id": "YSokQCZfCKXy"
      },
      "source": [
        "# class PrincipalMakerBlock(AbstractBaseBlock):\n",
        "#     def __init__(self,column,min_count=30):\n",
        "#         self.column=column\n",
        "#         self.min_count=min_count\n",
        "#     def fit(self, input_df, y=None):\n",
        "#         x=pm_df[self.column]\n",
        "#         vc=x.value_counts()\n",
        "#         categories = vc[vc > self.min_count].index\n",
        "#         self.categories_ = categories\n",
        "#         return self.transform(input_df)\n",
        "#     def transform(self, input_df):\n",
        "#         x = pm_df[self.column]\n",
        "#         cat = pd.Categorical(x, categories=self.categories_)\n",
        "#         out_df = pd.get_dummies(cat)\n",
        "#         out_df.columns = out_df.columns.tolist()\n",
        "#         return out_df.add_prefix(f'{self.column}=')\n"
      ],
      "execution_count": 22,
      "outputs": []
    },
    {
      "cell_type": "markdown",
      "metadata": {
        "id": "juVOfdRo1OMl"
      },
      "source": [
        "materialが複数あってもそれを文章と思うことで対応"
      ]
    },
    {
      "cell_type": "markdown",
      "metadata": {
        "id": "EPY3m79z2q8l"
      },
      "source": [
        "W2V"
      ]
    },
    {
      "cell_type": "code",
      "metadata": {
        "id": "kAW2WaCn3q0F"
      },
      "source": [
        "from pathlib import Path\n",
        "\n",
        "from gensim.models import word2vec, KeyedVectors\n",
        "from tqdm import tqdm"
      ],
      "execution_count": 23,
      "outputs": []
    },
    {
      "cell_type": "code",
      "metadata": {
        "id": "v2Q83MOm3r-x"
      },
      "source": [
        "model_size = {\n",
        "    \"material\": 20,\n",
        "    \"technique\": 8,\n",
        "    \"collection\": 3,\n",
        "    \"material_collection\": 20,\n",
        "    \"material_technique\": 20,\n",
        "    \"collection_technique\": 10,\n",
        "    \"material_collection_technique\": 25\n",
        "}\n",
        "\n",
        "n_iter = 100"
      ],
      "execution_count": 24,
      "outputs": []
    },
    {
      "cell_type": "code",
      "metadata": {
        "id": "1rLKrYKR6nBE"
      },
      "source": [
        "# import time\n",
        "# # ↓忘れずに!!\n",
        "# tqdm.pandas()"
      ],
      "execution_count": 25,
      "outputs": []
    },
    {
      "cell_type": "code",
      "metadata": {
        "id": "CTw3yjpZE_ad"
      },
      "source": [
        "def left_join_nodrop(left, right, on=OBJECT_ID):\n",
        "    if isinstance(left, pd.DataFrame):\n",
        "        left = left[on]\n",
        "    return pd.merge(left, right, on=on, how='left')"
      ],
      "execution_count": 27,
      "outputs": []
    },
    {
      "cell_type": "code",
      "metadata": {
        "id": "5GecAEn8693b"
      },
      "source": [
        "class W2VBlock(AbstractBaseBlock):\n",
        "    def __init__(self):\n",
        "        pass\n",
        "    def fit(self, input_df, y=None):\n",
        "    \n",
        "        tqdm.pandas()\n",
        "        material=pd.read_csv(os.path.join(INPUT_DIR,\"material.csv\"))\n",
        "        technique=pd.read_csv(os.path.join(INPUT_DIR,\"technique.csv\"))\n",
        "        collection=pd.read_csv(os.path.join(INPUT_DIR,\"object_collection.csv\"))\n",
        "        mat_col = pd.concat([material, collection], axis=0).reset_index(drop=True)\n",
        "        mat_tec = pd.concat([material, technique], axis=0).reset_index(drop=True)\n",
        "        col_tec = pd.concat([collection, technique], axis=0).reset_index(drop=True)\n",
        "        mat_col_tec = pd.concat([material, collection, technique], axis=0).reset_index(drop=True)\n",
        "        self.w2v_dfs = []\n",
        "        for df, df_name in zip(\n",
        "                [\n",
        "                    material, collection, technique,\n",
        "                    mat_col, mat_tec, col_tec, \n",
        "                    mat_col_tec\n",
        "                ], [\n",
        "                    \"material\", \"collection\", \"technique\",\n",
        "                    \"material_collection\",\n",
        "                    \"material_technique\",\n",
        "                    \"collection_technique\",\n",
        "                    \"material_collection_technique\"\n",
        "                ]):\n",
        "            df_group = df.groupby(\"object_id\")[\"name\"].apply(list).reset_index()\n",
        "            # Word2Vecの学習\n",
        "            w2v_model = word2vec.Word2Vec(df_group[\"name\"].values.tolist(),\n",
        "                                        size=model_size[df_name],\n",
        "                                        min_count=1,\n",
        "                                        window=1,\n",
        "                                        iter=n_iter)\n",
        "\n",
        "            # 各文章ごとにそれぞれの単語をベクトル表現に直し、平均をとって文章ベクトルにする\n",
        "            sentence_vectors = df_group[\"name\"].progress_apply(\n",
        "                lambda x: np.mean([w2v_model.wv[e] for e in x], axis=0))\n",
        "            sentence_vectors = np.vstack([x for x in sentence_vectors])\n",
        "            sentence_vector_df = pd.DataFrame(sentence_vectors,\n",
        "                                            columns=[f\"{df_name}_w2v_{i}\"\n",
        "                                                    for i in range(model_size[df_name])])\n",
        "            sentence_vector_df.index = df_group[\"object_id\"]\n",
        "            self.w2v_dfs.append(sentence_vector_df)\n",
        "        return self.transform(input_df)\n",
        "    def transform(self, input_df):\n",
        "        out_df = left_join_nodrop(input_df,self.w2v_dfs[0])\n",
        "        for i in range(1,6):\n",
        "            out_df = left_join_nodrop(out_df,self.w2v_dfs[i])\n",
        "        out_df = left_join(out_df,self.w2v_dfs[6])\n",
        "        return out_df.add_prefix(f'W2VBlock_name=')"
      ],
      "execution_count": 28,
      "outputs": []
    },
    {
      "cell_type": "code",
      "metadata": {
        "id": "HDdClVb8UqgV"
      },
      "source": [
        "feature_blocks = [\n",
        "    W2VBlock()\n",
        "]"
      ],
      "execution_count": 29,
      "outputs": []
    },
    {
      "cell_type": "code",
      "metadata": {
        "colab": {
          "base_uri": "https://localhost:8080/",
          "height": 472
        },
        "id": "WKjfRzL_TclY",
        "outputId": "21c60e34-a4b8-4726-8ab0-db770799a219"
      },
      "source": [
        "# block=Ac_credit_Encoding()\n",
        "train_check_df=run_blocks(train_df, blocks=feature_blocks)\n",
        "train_check_df"
      ],
      "execution_count": 29,
      "outputs": [
        {
          "output_type": "stream",
          "text": [
            "★★★★★★★★★★★★★★★★★★★★ start run blocks... ★★★★★★★★★★★★★★★★★★★★\n"
          ],
          "name": "stdout"
        },
        {
          "output_type": "stream",
          "text": [
            "/usr/local/lib/python3.7/dist-packages/tqdm/std.py:658: FutureWarning: The Panel class is removed from pandas. Accessing it from the top-level namespace will also be removed in the next version\n",
            "  from pandas import Panel\n",
            "100%|██████████| 23586/23586 [00:00<00:00, 43018.24it/s]\n"
          ],
          "name": "stderr"
        },
        {
          "output_type": "stream",
          "text": [
            "\t- <__main__.W2VBlock object at 0x7faabedf1d10> 5.335[s]\n",
            "run test=False 5.335[s]\n"
          ],
          "name": "stdout"
        },
        {
          "output_type": "error",
          "ename": "KeyboardInterrupt",
          "evalue": "ignored",
          "traceback": [
            "\u001b[0;31m---------------------------------------------------------------------------\u001b[0m",
            "\u001b[0;31mKeyboardInterrupt\u001b[0m                         Traceback (most recent call last)",
            "\u001b[0;32m<ipython-input-29-d97dafeea438>\u001b[0m in \u001b[0;36m<module>\u001b[0;34m()\u001b[0m\n\u001b[1;32m      1\u001b[0m \u001b[0;31m# block=Ac_credit_Encoding()\u001b[0m\u001b[0;34m\u001b[0m\u001b[0;34m\u001b[0m\u001b[0;34m\u001b[0m\u001b[0m\n\u001b[0;32m----> 2\u001b[0;31m \u001b[0mtrain_check_df\u001b[0m\u001b[0;34m=\u001b[0m\u001b[0mrun_blocks\u001b[0m\u001b[0;34m(\u001b[0m\u001b[0mtrain_df\u001b[0m\u001b[0;34m,\u001b[0m \u001b[0mblocks\u001b[0m\u001b[0;34m=\u001b[0m\u001b[0mfeature_blocks\u001b[0m\u001b[0;34m)\u001b[0m\u001b[0;34m\u001b[0m\u001b[0;34m\u001b[0m\u001b[0m\n\u001b[0m\u001b[1;32m      3\u001b[0m \u001b[0mtrain_check_df\u001b[0m\u001b[0;34m\u001b[0m\u001b[0;34m\u001b[0m\u001b[0m\n",
            "\u001b[0;32m<ipython-input-10-b28f72f38259>\u001b[0m in \u001b[0;36mrun_blocks\u001b[0;34m(input_df, blocks, y, test)\u001b[0m\n\u001b[1;32m      8\u001b[0m             \u001b[0;32mwith\u001b[0m \u001b[0mTimer\u001b[0m\u001b[0;34m(\u001b[0m\u001b[0mprefix\u001b[0m\u001b[0;34m=\u001b[0m\u001b[0;34m'\\t- {}'\u001b[0m\u001b[0;34m.\u001b[0m\u001b[0mformat\u001b[0m\u001b[0;34m(\u001b[0m\u001b[0mstr\u001b[0m\u001b[0;34m(\u001b[0m\u001b[0mblock\u001b[0m\u001b[0;34m)\u001b[0m\u001b[0;34m)\u001b[0m\u001b[0;34m)\u001b[0m\u001b[0;34m:\u001b[0m\u001b[0;34m\u001b[0m\u001b[0;34m\u001b[0m\u001b[0m\n\u001b[1;32m      9\u001b[0m                 \u001b[0;32mif\u001b[0m \u001b[0;32mnot\u001b[0m \u001b[0mtest\u001b[0m\u001b[0;34m:\u001b[0m\u001b[0;34m\u001b[0m\u001b[0;34m\u001b[0m\u001b[0m\n\u001b[0;32m---> 10\u001b[0;31m                     \u001b[0mout_i\u001b[0m \u001b[0;34m=\u001b[0m \u001b[0mblock\u001b[0m\u001b[0;34m.\u001b[0m\u001b[0mfit\u001b[0m\u001b[0;34m(\u001b[0m\u001b[0minput_df\u001b[0m\u001b[0;34m,\u001b[0m \u001b[0my\u001b[0m\u001b[0;34m=\u001b[0m\u001b[0my\u001b[0m\u001b[0;34m)\u001b[0m\u001b[0;34m\u001b[0m\u001b[0;34m\u001b[0m\u001b[0m\n\u001b[0m\u001b[1;32m     11\u001b[0m                 \u001b[0;32melse\u001b[0m\u001b[0;34m:\u001b[0m\u001b[0;34m\u001b[0m\u001b[0;34m\u001b[0m\u001b[0m\n\u001b[1;32m     12\u001b[0m                     \u001b[0mout_i\u001b[0m \u001b[0;34m=\u001b[0m \u001b[0mblock\u001b[0m\u001b[0;34m.\u001b[0m\u001b[0mtransform\u001b[0m\u001b[0;34m(\u001b[0m\u001b[0minput_df\u001b[0m\u001b[0;34m)\u001b[0m\u001b[0;34m\u001b[0m\u001b[0;34m\u001b[0m\u001b[0m\n",
            "\u001b[0;32m<ipython-input-27-870c916bcbaa>\u001b[0m in \u001b[0;36mfit\u001b[0;34m(self, input_df, y)\u001b[0m\n\u001b[1;32m     31\u001b[0m                                         \u001b[0mmin_count\u001b[0m\u001b[0;34m=\u001b[0m\u001b[0;36m1\u001b[0m\u001b[0;34m,\u001b[0m\u001b[0;34m\u001b[0m\u001b[0;34m\u001b[0m\u001b[0m\n\u001b[1;32m     32\u001b[0m                                         \u001b[0mwindow\u001b[0m\u001b[0;34m=\u001b[0m\u001b[0;36m1\u001b[0m\u001b[0;34m,\u001b[0m\u001b[0;34m\u001b[0m\u001b[0;34m\u001b[0m\u001b[0m\n\u001b[0;32m---> 33\u001b[0;31m                                         iter=n_iter)\n\u001b[0m\u001b[1;32m     34\u001b[0m \u001b[0;34m\u001b[0m\u001b[0m\n\u001b[1;32m     35\u001b[0m             \u001b[0;31m# 各文章ごとにそれぞれの単語をベクトル表現に直し、平均をとって文章ベクトルにする\u001b[0m\u001b[0;34m\u001b[0m\u001b[0;34m\u001b[0m\u001b[0;34m\u001b[0m\u001b[0m\n",
            "\u001b[0;32m/usr/local/lib/python3.7/dist-packages/gensim/models/word2vec.py\u001b[0m in \u001b[0;36m__init__\u001b[0;34m(self, sentences, corpus_file, size, alpha, window, min_count, max_vocab_size, sample, seed, workers, min_alpha, sg, hs, negative, ns_exponent, cbow_mean, hashfxn, iter, null_word, trim_rule, sorted_vocab, batch_words, compute_loss, callbacks, max_final_vocab)\u001b[0m\n\u001b[1;32m    765\u001b[0m             \u001b[0mcallbacks\u001b[0m\u001b[0;34m=\u001b[0m\u001b[0mcallbacks\u001b[0m\u001b[0;34m,\u001b[0m \u001b[0mbatch_words\u001b[0m\u001b[0;34m=\u001b[0m\u001b[0mbatch_words\u001b[0m\u001b[0;34m,\u001b[0m \u001b[0mtrim_rule\u001b[0m\u001b[0;34m=\u001b[0m\u001b[0mtrim_rule\u001b[0m\u001b[0;34m,\u001b[0m \u001b[0msg\u001b[0m\u001b[0;34m=\u001b[0m\u001b[0msg\u001b[0m\u001b[0;34m,\u001b[0m \u001b[0malpha\u001b[0m\u001b[0;34m=\u001b[0m\u001b[0malpha\u001b[0m\u001b[0;34m,\u001b[0m \u001b[0mwindow\u001b[0m\u001b[0;34m=\u001b[0m\u001b[0mwindow\u001b[0m\u001b[0;34m,\u001b[0m\u001b[0;34m\u001b[0m\u001b[0;34m\u001b[0m\u001b[0m\n\u001b[1;32m    766\u001b[0m             \u001b[0mseed\u001b[0m\u001b[0;34m=\u001b[0m\u001b[0mseed\u001b[0m\u001b[0;34m,\u001b[0m \u001b[0mhs\u001b[0m\u001b[0;34m=\u001b[0m\u001b[0mhs\u001b[0m\u001b[0;34m,\u001b[0m \u001b[0mnegative\u001b[0m\u001b[0;34m=\u001b[0m\u001b[0mnegative\u001b[0m\u001b[0;34m,\u001b[0m \u001b[0mcbow_mean\u001b[0m\u001b[0;34m=\u001b[0m\u001b[0mcbow_mean\u001b[0m\u001b[0;34m,\u001b[0m \u001b[0mmin_alpha\u001b[0m\u001b[0;34m=\u001b[0m\u001b[0mmin_alpha\u001b[0m\u001b[0;34m,\u001b[0m \u001b[0mcompute_loss\u001b[0m\u001b[0;34m=\u001b[0m\u001b[0mcompute_loss\u001b[0m\u001b[0;34m,\u001b[0m\u001b[0;34m\u001b[0m\u001b[0;34m\u001b[0m\u001b[0m\n\u001b[0;32m--> 767\u001b[0;31m             fast_version=FAST_VERSION)\n\u001b[0m\u001b[1;32m    768\u001b[0m \u001b[0;34m\u001b[0m\u001b[0m\n\u001b[1;32m    769\u001b[0m     def _do_train_epoch(self, corpus_file, thread_id, offset, cython_vocab, thread_private_mem, cur_epoch,\n",
            "\u001b[0;32m/usr/local/lib/python3.7/dist-packages/gensim/models/base_any2vec.py\u001b[0m in \u001b[0;36m__init__\u001b[0;34m(self, sentences, corpus_file, workers, vector_size, epochs, callbacks, batch_words, trim_rule, sg, alpha, window, seed, hs, negative, ns_exponent, cbow_mean, min_alpha, compute_loss, fast_version, **kwargs)\u001b[0m\n\u001b[1;32m    761\u001b[0m                 \u001b[0msentences\u001b[0m\u001b[0;34m=\u001b[0m\u001b[0msentences\u001b[0m\u001b[0;34m,\u001b[0m \u001b[0mcorpus_file\u001b[0m\u001b[0;34m=\u001b[0m\u001b[0mcorpus_file\u001b[0m\u001b[0;34m,\u001b[0m \u001b[0mtotal_examples\u001b[0m\u001b[0;34m=\u001b[0m\u001b[0mself\u001b[0m\u001b[0;34m.\u001b[0m\u001b[0mcorpus_count\u001b[0m\u001b[0;34m,\u001b[0m\u001b[0;34m\u001b[0m\u001b[0;34m\u001b[0m\u001b[0m\n\u001b[1;32m    762\u001b[0m                 \u001b[0mtotal_words\u001b[0m\u001b[0;34m=\u001b[0m\u001b[0mself\u001b[0m\u001b[0;34m.\u001b[0m\u001b[0mcorpus_total_words\u001b[0m\u001b[0;34m,\u001b[0m \u001b[0mepochs\u001b[0m\u001b[0;34m=\u001b[0m\u001b[0mself\u001b[0m\u001b[0;34m.\u001b[0m\u001b[0mepochs\u001b[0m\u001b[0;34m,\u001b[0m \u001b[0mstart_alpha\u001b[0m\u001b[0;34m=\u001b[0m\u001b[0mself\u001b[0m\u001b[0;34m.\u001b[0m\u001b[0malpha\u001b[0m\u001b[0;34m,\u001b[0m\u001b[0;34m\u001b[0m\u001b[0;34m\u001b[0m\u001b[0m\n\u001b[0;32m--> 763\u001b[0;31m                 end_alpha=self.min_alpha, compute_loss=compute_loss)\n\u001b[0m\u001b[1;32m    764\u001b[0m         \u001b[0;32melse\u001b[0m\u001b[0;34m:\u001b[0m\u001b[0;34m\u001b[0m\u001b[0;34m\u001b[0m\u001b[0m\n\u001b[1;32m    765\u001b[0m             \u001b[0;32mif\u001b[0m \u001b[0mtrim_rule\u001b[0m \u001b[0;32mis\u001b[0m \u001b[0;32mnot\u001b[0m \u001b[0;32mNone\u001b[0m\u001b[0;34m:\u001b[0m\u001b[0;34m\u001b[0m\u001b[0;34m\u001b[0m\u001b[0m\n",
            "\u001b[0;32m/usr/local/lib/python3.7/dist-packages/gensim/models/word2vec.py\u001b[0m in \u001b[0;36mtrain\u001b[0;34m(self, sentences, corpus_file, total_examples, total_words, epochs, start_alpha, end_alpha, word_count, queue_factor, report_delay, compute_loss, callbacks)\u001b[0m\n\u001b[1;32m    890\u001b[0m             \u001b[0msentences\u001b[0m\u001b[0;34m=\u001b[0m\u001b[0msentences\u001b[0m\u001b[0;34m,\u001b[0m \u001b[0mcorpus_file\u001b[0m\u001b[0;34m=\u001b[0m\u001b[0mcorpus_file\u001b[0m\u001b[0;34m,\u001b[0m \u001b[0mtotal_examples\u001b[0m\u001b[0;34m=\u001b[0m\u001b[0mtotal_examples\u001b[0m\u001b[0;34m,\u001b[0m \u001b[0mtotal_words\u001b[0m\u001b[0;34m=\u001b[0m\u001b[0mtotal_words\u001b[0m\u001b[0;34m,\u001b[0m\u001b[0;34m\u001b[0m\u001b[0;34m\u001b[0m\u001b[0m\n\u001b[1;32m    891\u001b[0m             \u001b[0mepochs\u001b[0m\u001b[0;34m=\u001b[0m\u001b[0mepochs\u001b[0m\u001b[0;34m,\u001b[0m \u001b[0mstart_alpha\u001b[0m\u001b[0;34m=\u001b[0m\u001b[0mstart_alpha\u001b[0m\u001b[0;34m,\u001b[0m \u001b[0mend_alpha\u001b[0m\u001b[0;34m=\u001b[0m\u001b[0mend_alpha\u001b[0m\u001b[0;34m,\u001b[0m \u001b[0mword_count\u001b[0m\u001b[0;34m=\u001b[0m\u001b[0mword_count\u001b[0m\u001b[0;34m,\u001b[0m\u001b[0;34m\u001b[0m\u001b[0;34m\u001b[0m\u001b[0m\n\u001b[0;32m--> 892\u001b[0;31m             queue_factor=queue_factor, report_delay=report_delay, compute_loss=compute_loss, callbacks=callbacks)\n\u001b[0m\u001b[1;32m    893\u001b[0m \u001b[0;34m\u001b[0m\u001b[0m\n\u001b[1;32m    894\u001b[0m     \u001b[0;32mdef\u001b[0m \u001b[0mscore\u001b[0m\u001b[0;34m(\u001b[0m\u001b[0mself\u001b[0m\u001b[0;34m,\u001b[0m \u001b[0msentences\u001b[0m\u001b[0;34m,\u001b[0m \u001b[0mtotal_sentences\u001b[0m\u001b[0;34m=\u001b[0m\u001b[0mint\u001b[0m\u001b[0;34m(\u001b[0m\u001b[0;36m1e6\u001b[0m\u001b[0;34m)\u001b[0m\u001b[0;34m,\u001b[0m \u001b[0mchunksize\u001b[0m\u001b[0;34m=\u001b[0m\u001b[0;36m100\u001b[0m\u001b[0;34m,\u001b[0m \u001b[0mqueue_factor\u001b[0m\u001b[0;34m=\u001b[0m\u001b[0;36m2\u001b[0m\u001b[0;34m,\u001b[0m \u001b[0mreport_delay\u001b[0m\u001b[0;34m=\u001b[0m\u001b[0;36m1\u001b[0m\u001b[0;34m)\u001b[0m\u001b[0;34m:\u001b[0m\u001b[0;34m\u001b[0m\u001b[0;34m\u001b[0m\u001b[0m\n",
            "\u001b[0;32m/usr/local/lib/python3.7/dist-packages/gensim/models/base_any2vec.py\u001b[0m in \u001b[0;36mtrain\u001b[0;34m(self, sentences, corpus_file, total_examples, total_words, epochs, start_alpha, end_alpha, word_count, queue_factor, report_delay, compute_loss, callbacks, **kwargs)\u001b[0m\n\u001b[1;32m   1079\u001b[0m             \u001b[0mtotal_words\u001b[0m\u001b[0;34m=\u001b[0m\u001b[0mtotal_words\u001b[0m\u001b[0;34m,\u001b[0m \u001b[0mepochs\u001b[0m\u001b[0;34m=\u001b[0m\u001b[0mepochs\u001b[0m\u001b[0;34m,\u001b[0m \u001b[0mstart_alpha\u001b[0m\u001b[0;34m=\u001b[0m\u001b[0mstart_alpha\u001b[0m\u001b[0;34m,\u001b[0m \u001b[0mend_alpha\u001b[0m\u001b[0;34m=\u001b[0m\u001b[0mend_alpha\u001b[0m\u001b[0;34m,\u001b[0m \u001b[0mword_count\u001b[0m\u001b[0;34m=\u001b[0m\u001b[0mword_count\u001b[0m\u001b[0;34m,\u001b[0m\u001b[0;34m\u001b[0m\u001b[0;34m\u001b[0m\u001b[0m\n\u001b[1;32m   1080\u001b[0m             \u001b[0mqueue_factor\u001b[0m\u001b[0;34m=\u001b[0m\u001b[0mqueue_factor\u001b[0m\u001b[0;34m,\u001b[0m \u001b[0mreport_delay\u001b[0m\u001b[0;34m=\u001b[0m\u001b[0mreport_delay\u001b[0m\u001b[0;34m,\u001b[0m \u001b[0mcompute_loss\u001b[0m\u001b[0;34m=\u001b[0m\u001b[0mcompute_loss\u001b[0m\u001b[0;34m,\u001b[0m \u001b[0mcallbacks\u001b[0m\u001b[0;34m=\u001b[0m\u001b[0mcallbacks\u001b[0m\u001b[0;34m,\u001b[0m\u001b[0;34m\u001b[0m\u001b[0;34m\u001b[0m\u001b[0m\n\u001b[0;32m-> 1081\u001b[0;31m             **kwargs)\n\u001b[0m\u001b[1;32m   1082\u001b[0m \u001b[0;34m\u001b[0m\u001b[0m\n\u001b[1;32m   1083\u001b[0m     \u001b[0;32mdef\u001b[0m \u001b[0m_get_job_params\u001b[0m\u001b[0;34m(\u001b[0m\u001b[0mself\u001b[0m\u001b[0;34m,\u001b[0m \u001b[0mcur_epoch\u001b[0m\u001b[0;34m)\u001b[0m\u001b[0;34m:\u001b[0m\u001b[0;34m\u001b[0m\u001b[0;34m\u001b[0m\u001b[0m\n",
            "\u001b[0;32m/usr/local/lib/python3.7/dist-packages/gensim/models/base_any2vec.py\u001b[0m in \u001b[0;36mtrain\u001b[0;34m(self, data_iterable, corpus_file, epochs, total_examples, total_words, queue_factor, report_delay, callbacks, **kwargs)\u001b[0m\n\u001b[1;32m    551\u001b[0m                 trained_word_count_epoch, raw_word_count_epoch, job_tally_epoch = self._train_epoch(\n\u001b[1;32m    552\u001b[0m                     \u001b[0mdata_iterable\u001b[0m\u001b[0;34m,\u001b[0m \u001b[0mcur_epoch\u001b[0m\u001b[0;34m=\u001b[0m\u001b[0mcur_epoch\u001b[0m\u001b[0;34m,\u001b[0m \u001b[0mtotal_examples\u001b[0m\u001b[0;34m=\u001b[0m\u001b[0mtotal_examples\u001b[0m\u001b[0;34m,\u001b[0m\u001b[0;34m\u001b[0m\u001b[0;34m\u001b[0m\u001b[0m\n\u001b[0;32m--> 553\u001b[0;31m                     total_words=total_words, queue_factor=queue_factor, report_delay=report_delay)\n\u001b[0m\u001b[1;32m    554\u001b[0m             \u001b[0;32melse\u001b[0m\u001b[0;34m:\u001b[0m\u001b[0;34m\u001b[0m\u001b[0;34m\u001b[0m\u001b[0m\n\u001b[1;32m    555\u001b[0m                 trained_word_count_epoch, raw_word_count_epoch, job_tally_epoch = self._train_epoch_corpusfile(\n",
            "\u001b[0;32m/usr/local/lib/python3.7/dist-packages/gensim/models/base_any2vec.py\u001b[0m in \u001b[0;36m_train_epoch\u001b[0;34m(self, data_iterable, cur_epoch, total_examples, total_words, queue_factor, report_delay)\u001b[0m\n\u001b[1;32m    487\u001b[0m         trained_word_count, raw_word_count, job_tally = self._log_epoch_progress(\n\u001b[1;32m    488\u001b[0m             \u001b[0mprogress_queue\u001b[0m\u001b[0;34m,\u001b[0m \u001b[0mjob_queue\u001b[0m\u001b[0;34m,\u001b[0m \u001b[0mcur_epoch\u001b[0m\u001b[0;34m=\u001b[0m\u001b[0mcur_epoch\u001b[0m\u001b[0;34m,\u001b[0m \u001b[0mtotal_examples\u001b[0m\u001b[0;34m=\u001b[0m\u001b[0mtotal_examples\u001b[0m\u001b[0;34m,\u001b[0m \u001b[0mtotal_words\u001b[0m\u001b[0;34m=\u001b[0m\u001b[0mtotal_words\u001b[0m\u001b[0;34m,\u001b[0m\u001b[0;34m\u001b[0m\u001b[0;34m\u001b[0m\u001b[0m\n\u001b[0;32m--> 489\u001b[0;31m             report_delay=report_delay, is_corpus_file_mode=False)\n\u001b[0m\u001b[1;32m    490\u001b[0m \u001b[0;34m\u001b[0m\u001b[0m\n\u001b[1;32m    491\u001b[0m         \u001b[0;32mreturn\u001b[0m \u001b[0mtrained_word_count\u001b[0m\u001b[0;34m,\u001b[0m \u001b[0mraw_word_count\u001b[0m\u001b[0;34m,\u001b[0m \u001b[0mjob_tally\u001b[0m\u001b[0;34m\u001b[0m\u001b[0;34m\u001b[0m\u001b[0m\n",
            "\u001b[0;32m/usr/local/lib/python3.7/dist-packages/gensim/models/base_any2vec.py\u001b[0m in \u001b[0;36m_log_epoch_progress\u001b[0;34m(self, progress_queue, job_queue, cur_epoch, total_examples, total_words, report_delay, is_corpus_file_mode)\u001b[0m\n\u001b[1;32m    344\u001b[0m \u001b[0;34m\u001b[0m\u001b[0m\n\u001b[1;32m    345\u001b[0m         \u001b[0;32mwhile\u001b[0m \u001b[0munfinished_worker_count\u001b[0m \u001b[0;34m>\u001b[0m \u001b[0;36m0\u001b[0m\u001b[0;34m:\u001b[0m\u001b[0;34m\u001b[0m\u001b[0;34m\u001b[0m\u001b[0m\n\u001b[0;32m--> 346\u001b[0;31m             \u001b[0mreport\u001b[0m \u001b[0;34m=\u001b[0m \u001b[0mprogress_queue\u001b[0m\u001b[0;34m.\u001b[0m\u001b[0mget\u001b[0m\u001b[0;34m(\u001b[0m\u001b[0;34m)\u001b[0m  \u001b[0;31m# blocks if workers too slow\u001b[0m\u001b[0;34m\u001b[0m\u001b[0;34m\u001b[0m\u001b[0m\n\u001b[0m\u001b[1;32m    347\u001b[0m             \u001b[0;32mif\u001b[0m \u001b[0mreport\u001b[0m \u001b[0;32mis\u001b[0m \u001b[0;32mNone\u001b[0m\u001b[0;34m:\u001b[0m  \u001b[0;31m# a thread reporting that it finished\u001b[0m\u001b[0;34m\u001b[0m\u001b[0;34m\u001b[0m\u001b[0m\n\u001b[1;32m    348\u001b[0m                 \u001b[0munfinished_worker_count\u001b[0m \u001b[0;34m-=\u001b[0m \u001b[0;36m1\u001b[0m\u001b[0;34m\u001b[0m\u001b[0;34m\u001b[0m\u001b[0m\n",
            "\u001b[0;32m/usr/lib/python3.7/queue.py\u001b[0m in \u001b[0;36mget\u001b[0;34m(self, block, timeout)\u001b[0m\n\u001b[1;32m    168\u001b[0m             \u001b[0;32melif\u001b[0m \u001b[0mtimeout\u001b[0m \u001b[0;32mis\u001b[0m \u001b[0;32mNone\u001b[0m\u001b[0;34m:\u001b[0m\u001b[0;34m\u001b[0m\u001b[0;34m\u001b[0m\u001b[0m\n\u001b[1;32m    169\u001b[0m                 \u001b[0;32mwhile\u001b[0m \u001b[0;32mnot\u001b[0m \u001b[0mself\u001b[0m\u001b[0;34m.\u001b[0m\u001b[0m_qsize\u001b[0m\u001b[0;34m(\u001b[0m\u001b[0;34m)\u001b[0m\u001b[0;34m:\u001b[0m\u001b[0;34m\u001b[0m\u001b[0;34m\u001b[0m\u001b[0m\n\u001b[0;32m--> 170\u001b[0;31m                     \u001b[0mself\u001b[0m\u001b[0;34m.\u001b[0m\u001b[0mnot_empty\u001b[0m\u001b[0;34m.\u001b[0m\u001b[0mwait\u001b[0m\u001b[0;34m(\u001b[0m\u001b[0;34m)\u001b[0m\u001b[0;34m\u001b[0m\u001b[0;34m\u001b[0m\u001b[0m\n\u001b[0m\u001b[1;32m    171\u001b[0m             \u001b[0;32melif\u001b[0m \u001b[0mtimeout\u001b[0m \u001b[0;34m<\u001b[0m \u001b[0;36m0\u001b[0m\u001b[0;34m:\u001b[0m\u001b[0;34m\u001b[0m\u001b[0;34m\u001b[0m\u001b[0m\n\u001b[1;32m    172\u001b[0m                 \u001b[0;32mraise\u001b[0m \u001b[0mValueError\u001b[0m\u001b[0;34m(\u001b[0m\u001b[0;34m\"'timeout' must be a non-negative number\"\u001b[0m\u001b[0;34m)\u001b[0m\u001b[0;34m\u001b[0m\u001b[0;34m\u001b[0m\u001b[0m\n",
            "\u001b[0;32m/usr/lib/python3.7/threading.py\u001b[0m in \u001b[0;36mwait\u001b[0;34m(self, timeout)\u001b[0m\n\u001b[1;32m    294\u001b[0m         \u001b[0;32mtry\u001b[0m\u001b[0;34m:\u001b[0m    \u001b[0;31m# restore state no matter what (e.g., KeyboardInterrupt)\u001b[0m\u001b[0;34m\u001b[0m\u001b[0;34m\u001b[0m\u001b[0m\n\u001b[1;32m    295\u001b[0m             \u001b[0;32mif\u001b[0m \u001b[0mtimeout\u001b[0m \u001b[0;32mis\u001b[0m \u001b[0;32mNone\u001b[0m\u001b[0;34m:\u001b[0m\u001b[0;34m\u001b[0m\u001b[0;34m\u001b[0m\u001b[0m\n\u001b[0;32m--> 296\u001b[0;31m                 \u001b[0mwaiter\u001b[0m\u001b[0;34m.\u001b[0m\u001b[0macquire\u001b[0m\u001b[0;34m(\u001b[0m\u001b[0;34m)\u001b[0m\u001b[0;34m\u001b[0m\u001b[0;34m\u001b[0m\u001b[0m\n\u001b[0m\u001b[1;32m    297\u001b[0m                 \u001b[0mgotit\u001b[0m \u001b[0;34m=\u001b[0m \u001b[0;32mTrue\u001b[0m\u001b[0;34m\u001b[0m\u001b[0;34m\u001b[0m\u001b[0m\n\u001b[1;32m    298\u001b[0m             \u001b[0;32melse\u001b[0m\u001b[0;34m:\u001b[0m\u001b[0;34m\u001b[0m\u001b[0;34m\u001b[0m\u001b[0m\n",
            "\u001b[0;31mKeyboardInterrupt\u001b[0m: "
          ]
        }
      ]
    },
    {
      "cell_type": "code",
      "metadata": {
        "id": "jRqabxO_qSTd"
      },
      "source": [
        "class MaterialBlock(AbstractBaseBlock):\n",
        "    def __init__(self, min_count=30):\n",
        "        self.min_count = min_count\n",
        "    \n",
        "    def fit(self, input_df, y=None):\n",
        "        # material_df = read_csv('material')\n",
        "        \n",
        "        vc = material_df['name'].value_counts()\n",
        "        # 出現回数30以上に絞る\n",
        "        use_names = vc[vc >= self.min_count].index\n",
        "\n",
        "        # isin で 30 回以上でてくるようなレコードに絞り込んでから corsstab を行なう\n",
        "        idx = material_df['name'].isin(use_names)\n",
        "        _use_df = material_df[idx].reset_index(drop=True)\n",
        "        \n",
        "        self.agg_df_ = pd.crosstab(_use_df['object_id'], _use_df['name'])\n",
        "        return self.transform(input_df)\n",
        "    \n",
        "    def transform(self, input_df):\n",
        "        out_df = left_join(input_df, self.agg_df_)\n",
        "        return out_df.add_prefix(f'MaterialBlock_name=')"
      ],
      "execution_count": 30,
      "outputs": []
    },
    {
      "cell_type": "code",
      "metadata": {
        "id": "h-DjQkDpMgVj"
      },
      "source": [
        "class TechBlock(AbstractBaseBlock):\n",
        "    def __init__(self, min_count=30):\n",
        "        self.min_count = min_count\n",
        "    \n",
        "    def fit(self, input_df, y=None):\n",
        "        \n",
        "        \n",
        "        vc = tech_df['name'].value_counts()\n",
        "        # 出現回数30以上に絞る\n",
        "        use_names = vc[vc >= self.min_count].index\n",
        "\n",
        "        # isin で 30 回以上でてくるようなレコードに絞り込んでから corsstab を行なう\n",
        "        idx = tech_df['name'].isin(use_names)\n",
        "        _use_df = tech_df[idx].reset_index(drop=True)\n",
        "        \n",
        "        self.agg_df_ = pd.crosstab(_use_df['object_id'], _use_df['name'])\n",
        "        return self.transform(input_df)\n",
        "    \n",
        "    def transform(self, input_df):\n",
        "        out_df = left_join(input_df, self.agg_df_)\n",
        "        return out_df.add_prefix(f'TechniqueBlock_name=')"
      ],
      "execution_count": 31,
      "outputs": []
    },
    {
      "cell_type": "code",
      "metadata": {
        "id": "jAokQtgYlSab"
      },
      "source": [
        "class ProductionPlaceBlock(AbstractBaseBlock):\n",
        "    def __init__(self, min_count=10):\n",
        "        self.min_count = min_count\n",
        "    \n",
        "    def fit(self, input_df, y=None):\n",
        "        \n",
        "        # proplace_df\n",
        "        vc = proplace_df['name'].value_counts()\n",
        "        # 出現回数30以上に絞る\n",
        "        use_names = vc[vc >= self.min_count].index\n",
        "\n",
        "        # isin で 30 回以上でてくるようなレコードに絞り込んでから corsstab を行なう\n",
        "        idx =proplace_df['name'].isin(use_names)\n",
        "        _use_df = proplace_df[idx].reset_index(drop=True)\n",
        "        \n",
        "        self.agg_df_ = pd.crosstab(_use_df['object_id'], _use_df['name'])\n",
        "        return self.transform(input_df)\n",
        "    \n",
        "    def transform(self, input_df):\n",
        "        out_df = left_join(input_df, self.agg_df_)\n",
        "        return out_df.add_prefix(f'proplace_dfBlock_name=')"
      ],
      "execution_count": 32,
      "outputs": []
    },
    {
      "cell_type": "code",
      "metadata": {
        "id": "vH3kvrsoRG8T"
      },
      "source": [
        "class HistoricalPersonBlock(AbstractBaseBlock):\n",
        "    def __init__(self, min_count=30):\n",
        "        self.min_count = min_count\n",
        "    \n",
        "    def fit(self, input_df, y=None):\n",
        "        vc = person_df['name'].value_counts()\n",
        "        # 出現回数30以上に絞る\n",
        "        use_names = vc[vc >= self.min_count].index\n",
        "\n",
        "        # isin で 30 回以上でてくるようなレコードに絞り込んでから corsstab を行なう\n",
        "        idx = person_df['name'].isin(use_names)\n",
        "        _use_df = person_df[idx].reset_index(drop=True)\n",
        "        \n",
        "        self.agg_df_ = pd.crosstab(_use_df['object_id'], _use_df['name'])\n",
        "        return self.transform(input_df)\n",
        "    \n",
        "    def transform(self, input_df):\n",
        "        out_df = left_join(input_df, self.agg_df_)\n",
        "        return out_df.add_prefix(f'HistoricalPersonBlock_name=')"
      ],
      "execution_count": 33,
      "outputs": []
    },
    {
      "cell_type": "markdown",
      "metadata": {
        "id": "N8meiV4zi6IJ"
      },
      "source": [
        "##text特徴量"
      ]
    },
    {
      "cell_type": "code",
      "metadata": {
        "id": "vBR85A7Mi9FG",
        "colab": {
          "base_uri": "https://localhost:8080/"
        },
        "outputId": "b3f6b5c5-5570-4534-fb59-8352ee3095eb"
      },
      "source": [
        "!pip install texthero"
      ],
      "execution_count": 34,
      "outputs": [
        {
          "output_type": "stream",
          "text": [
            "Collecting texthero\n",
            "  Downloading https://files.pythonhosted.org/packages/1f/5a/a9d33b799fe53011de79d140ad6d86c440a2da1ae8a7b24e851ee2f8bde8/texthero-1.0.9-py3-none-any.whl\n",
            "Requirement already satisfied: gensim>=3.6.0 in /usr/local/lib/python3.7/dist-packages (from texthero) (3.6.0)\n",
            "Requirement already satisfied: pandas>=1.0.2 in /usr/local/lib/python3.7/dist-packages (from texthero) (1.1.5)\n",
            "Requirement already satisfied: wordcloud>=1.5.0 in /usr/local/lib/python3.7/dist-packages (from texthero) (1.5.0)\n",
            "Requirement already satisfied: numpy>=1.17 in /usr/local/lib/python3.7/dist-packages (from texthero) (1.19.5)\n",
            "Requirement already satisfied: matplotlib>=3.1.0 in /usr/local/lib/python3.7/dist-packages (from texthero) (3.2.2)\n",
            "Requirement already satisfied: scikit-learn>=0.22 in /usr/local/lib/python3.7/dist-packages (from texthero) (0.22.2.post1)\n",
            "Collecting nltk>=3.3\n",
            "\u001b[?25l  Downloading https://files.pythonhosted.org/packages/92/75/ce35194d8e3022203cca0d2f896dbb88689f9b3fce8e9f9cff942913519d/nltk-3.5.zip (1.4MB)\n",
            "\u001b[K     |████████████████████████████████| 1.4MB 10.3MB/s \n",
            "\u001b[?25hRequirement already satisfied: spacy>=2.2.2 in /usr/local/lib/python3.7/dist-packages (from texthero) (2.2.4)\n",
            "Collecting unidecode>=1.1.1\n",
            "\u001b[?25l  Downloading https://files.pythonhosted.org/packages/9e/25/723487ca2a52ebcee88a34d7d1f5a4b80b793f179ee0f62d5371938dfa01/Unidecode-1.2.0-py2.py3-none-any.whl (241kB)\n",
            "\u001b[K     |████████████████████████████████| 245kB 42.6MB/s \n",
            "\u001b[?25hRequirement already satisfied: tqdm>=4.3 in /usr/local/lib/python3.7/dist-packages (from texthero) (4.41.1)\n",
            "Requirement already satisfied: plotly>=4.2.0 in /usr/local/lib/python3.7/dist-packages (from texthero) (4.4.1)\n",
            "Requirement already satisfied: six>=1.5.0 in /usr/local/lib/python3.7/dist-packages (from gensim>=3.6.0->texthero) (1.15.0)\n",
            "Requirement already satisfied: scipy>=0.18.1 in /usr/local/lib/python3.7/dist-packages (from gensim>=3.6.0->texthero) (1.4.1)\n",
            "Requirement already satisfied: smart-open>=1.2.1 in /usr/local/lib/python3.7/dist-packages (from gensim>=3.6.0->texthero) (4.2.0)\n",
            "Requirement already satisfied: python-dateutil>=2.7.3 in /usr/local/lib/python3.7/dist-packages (from pandas>=1.0.2->texthero) (2.8.1)\n",
            "Requirement already satisfied: pytz>=2017.2 in /usr/local/lib/python3.7/dist-packages (from pandas>=1.0.2->texthero) (2018.9)\n",
            "Requirement already satisfied: pillow in /usr/local/lib/python3.7/dist-packages (from wordcloud>=1.5.0->texthero) (7.1.2)\n",
            "Requirement already satisfied: cycler>=0.10 in /usr/local/lib/python3.7/dist-packages (from matplotlib>=3.1.0->texthero) (0.10.0)\n",
            "Requirement already satisfied: pyparsing!=2.0.4,!=2.1.2,!=2.1.6,>=2.0.1 in /usr/local/lib/python3.7/dist-packages (from matplotlib>=3.1.0->texthero) (2.4.7)\n",
            "Requirement already satisfied: kiwisolver>=1.0.1 in /usr/local/lib/python3.7/dist-packages (from matplotlib>=3.1.0->texthero) (1.3.1)\n",
            "Requirement already satisfied: joblib>=0.11 in /usr/local/lib/python3.7/dist-packages (from scikit-learn>=0.22->texthero) (1.0.1)\n",
            "Requirement already satisfied: click in /usr/local/lib/python3.7/dist-packages (from nltk>=3.3->texthero) (7.1.2)\n",
            "Requirement already satisfied: regex in /usr/local/lib/python3.7/dist-packages (from nltk>=3.3->texthero) (2019.12.20)\n",
            "Requirement already satisfied: plac<1.2.0,>=0.9.6 in /usr/local/lib/python3.7/dist-packages (from spacy>=2.2.2->texthero) (1.1.3)\n",
            "Requirement already satisfied: catalogue<1.1.0,>=0.0.7 in /usr/local/lib/python3.7/dist-packages (from spacy>=2.2.2->texthero) (1.0.0)\n",
            "Requirement already satisfied: srsly<1.1.0,>=1.0.2 in /usr/local/lib/python3.7/dist-packages (from spacy>=2.2.2->texthero) (1.0.5)\n",
            "Requirement already satisfied: wasabi<1.1.0,>=0.4.0 in /usr/local/lib/python3.7/dist-packages (from spacy>=2.2.2->texthero) (0.8.2)\n",
            "Requirement already satisfied: requests<3.0.0,>=2.13.0 in /usr/local/lib/python3.7/dist-packages (from spacy>=2.2.2->texthero) (2.23.0)\n",
            "Requirement already satisfied: murmurhash<1.1.0,>=0.28.0 in /usr/local/lib/python3.7/dist-packages (from spacy>=2.2.2->texthero) (1.0.5)\n",
            "Requirement already satisfied: setuptools in /usr/local/lib/python3.7/dist-packages (from spacy>=2.2.2->texthero) (54.2.0)\n",
            "Requirement already satisfied: preshed<3.1.0,>=3.0.2 in /usr/local/lib/python3.7/dist-packages (from spacy>=2.2.2->texthero) (3.0.5)\n",
            "Requirement already satisfied: thinc==7.4.0 in /usr/local/lib/python3.7/dist-packages (from spacy>=2.2.2->texthero) (7.4.0)\n",
            "Requirement already satisfied: cymem<2.1.0,>=2.0.2 in /usr/local/lib/python3.7/dist-packages (from spacy>=2.2.2->texthero) (2.0.5)\n",
            "Requirement already satisfied: blis<0.5.0,>=0.4.0 in /usr/local/lib/python3.7/dist-packages (from spacy>=2.2.2->texthero) (0.4.1)\n",
            "Requirement already satisfied: retrying>=1.3.3 in /usr/local/lib/python3.7/dist-packages (from plotly>=4.2.0->texthero) (1.3.3)\n",
            "Requirement already satisfied: importlib-metadata>=0.20; python_version < \"3.8\" in /usr/local/lib/python3.7/dist-packages (from catalogue<1.1.0,>=0.0.7->spacy>=2.2.2->texthero) (3.8.1)\n",
            "Requirement already satisfied: chardet<4,>=3.0.2 in /usr/local/lib/python3.7/dist-packages (from requests<3.0.0,>=2.13.0->spacy>=2.2.2->texthero) (3.0.4)\n",
            "Requirement already satisfied: urllib3!=1.25.0,!=1.25.1,<1.26,>=1.21.1 in /usr/local/lib/python3.7/dist-packages (from requests<3.0.0,>=2.13.0->spacy>=2.2.2->texthero) (1.24.3)\n",
            "Requirement already satisfied: idna<3,>=2.5 in /usr/local/lib/python3.7/dist-packages (from requests<3.0.0,>=2.13.0->spacy>=2.2.2->texthero) (2.10)\n",
            "Requirement already satisfied: certifi>=2017.4.17 in /usr/local/lib/python3.7/dist-packages (from requests<3.0.0,>=2.13.0->spacy>=2.2.2->texthero) (2020.12.5)\n",
            "Requirement already satisfied: typing-extensions>=3.6.4; python_version < \"3.8\" in /usr/local/lib/python3.7/dist-packages (from importlib-metadata>=0.20; python_version < \"3.8\"->catalogue<1.1.0,>=0.0.7->spacy>=2.2.2->texthero) (3.7.4.3)\n",
            "Requirement already satisfied: zipp>=0.5 in /usr/local/lib/python3.7/dist-packages (from importlib-metadata>=0.20; python_version < \"3.8\"->catalogue<1.1.0,>=0.0.7->spacy>=2.2.2->texthero) (3.4.1)\n",
            "Building wheels for collected packages: nltk\n",
            "  Building wheel for nltk (setup.py) ... \u001b[?25l\u001b[?25hdone\n",
            "  Created wheel for nltk: filename=nltk-3.5-cp37-none-any.whl size=1434677 sha256=17d4dc1176aa6fc9ec3aded80a264334b5b30418de2920dcd9599776ce3430b3\n",
            "  Stored in directory: /root/.cache/pip/wheels/ae/8c/3f/b1fe0ba04555b08b57ab52ab7f86023639a526d8bc8d384306\n",
            "Successfully built nltk\n",
            "Installing collected packages: nltk, unidecode, texthero\n",
            "  Found existing installation: nltk 3.2.5\n",
            "    Uninstalling nltk-3.2.5:\n",
            "      Successfully uninstalled nltk-3.2.5\n",
            "Successfully installed nltk-3.5 texthero-1.0.9 unidecode-1.2.0\n"
          ],
          "name": "stdout"
        }
      ]
    },
    {
      "cell_type": "code",
      "metadata": {
        "colab": {
          "base_uri": "https://localhost:8080/"
        },
        "id": "1IHm142MjJGQ",
        "outputId": "5a67ed27-3ad8-4a83-c8b4-b5a244f89ce3"
      },
      "source": [
        "import texthero as hero\n",
        "import nltk\n",
        "\n",
        "nltk.download('stopwords')\n",
        "os.listdir(os.path.expanduser('~/nltk_data/corpora/stopwords/'))"
      ],
      "execution_count": 35,
      "outputs": [
        {
          "output_type": "stream",
          "text": [
            "[nltk_data] Downloading package stopwords to /root/nltk_data...\n",
            "[nltk_data]   Unzipping corpora/stopwords.zip.\n",
            "[nltk_data] Downloading package stopwords to /root/nltk_data...\n",
            "[nltk_data]   Package stopwords is already up-to-date!\n"
          ],
          "name": "stderr"
        },
        {
          "output_type": "execute_result",
          "data": {
            "text/plain": [
              "['azerbaijani',\n",
              " 'dutch',\n",
              " 'german',\n",
              " 'kazakh',\n",
              " 'slovene',\n",
              " 'danish',\n",
              " 'hungarian',\n",
              " 'romanian',\n",
              " 'spanish',\n",
              " 'swedish',\n",
              " 'greek',\n",
              " 'italian',\n",
              " 'french',\n",
              " 'README',\n",
              " 'nepali',\n",
              " 'norwegian',\n",
              " 'finnish',\n",
              " 'english',\n",
              " 'turkish',\n",
              " 'portuguese',\n",
              " 'russian',\n",
              " 'tajik',\n",
              " 'indonesian',\n",
              " 'arabic']"
            ]
          },
          "metadata": {
            "tags": []
          },
          "execution_count": 35
        }
      ]
    },
    {
      "cell_type": "code",
      "metadata": {
        "id": "0s_UzX2sjxm_"
      },
      "source": [
        "from sklearn.feature_extraction.text import TfidfVectorizer\n",
        "from sklearn.decomposition import TruncatedSVD\n",
        "from sklearn.pipeline import Pipeline"
      ],
      "execution_count": 36,
      "outputs": []
    },
    {
      "cell_type": "code",
      "metadata": {
        "id": "G03YmpHJjNm5"
      },
      "source": [
        "def text_normalization(text):\n",
        "    \n",
        "    # 英語とオランダ語を stopword として指定\n",
        "    custom_stopwords = nltk.corpus.stopwords.words('dutch') + nltk.corpus.stopwords.words('english')\n",
        "\n",
        "    x = hero.clean(text, pipeline=[\n",
        "        hero.preprocessing.fillna,\n",
        "        hero.preprocessing.lowercase,\n",
        "        hero.preprocessing.remove_digits,\n",
        "        hero.preprocessing.remove_punctuation,\n",
        "        hero.preprocessing.remove_diacritics,\n",
        "        lambda x: hero.preprocessing.remove_stopwords(x, stopwords=custom_stopwords)\n",
        "    ])\n",
        "    \n",
        "    return x\n",
        "\n",
        "class TfidfBlock(AbstractBaseBlock):\n",
        "    \"\"\"tfidf x SVD による圧縮を行なう block\"\"\"\n",
        "    def __init__(self, column: str):\n",
        "        \"\"\"\n",
        "        args:\n",
        "            column: str\n",
        "                変換対象のカラム名\n",
        "        \"\"\"\n",
        "        self.column = column\n",
        "    \n",
        "    def preprocess(self, input_df):\n",
        "        x = text_normalization(input_df[self.column])\n",
        "        return x\n",
        "    \n",
        "    def get_master(self, input_df):\n",
        "        \"\"\"tdidfを計算するための全体集合を返す. \n",
        "        デフォルトでは fit でわたされた dataframe を使うが, もっと別のデータを使うのも考えられる.\"\"\"\n",
        "        return input_df\n",
        "    \n",
        "    def fit(self, input_df, y=None):\n",
        "        master_df = self.get_master(input_df)\n",
        "        text = self.preprocess(input_df)\n",
        "        self.pileline_ = Pipeline([\n",
        "            ('tfidf', TfidfVectorizer(max_features=10000)),\n",
        "            ('svd', TruncatedSVD(n_components=50)),\n",
        "        ])\n",
        "        \n",
        "        self.pileline_.fit(text)\n",
        "        return self.transform(input_df)\n",
        "    \n",
        "    def transform(self, input_df):\n",
        "        text = self.preprocess(input_df)\n",
        "        z = self.pileline_.transform(text)\n",
        "        \n",
        "        out_df = pd.DataFrame(z)\n",
        "        return out_df.add_prefix(f'{self.column}_tfidf_')"
      ],
      "execution_count": 37,
      "outputs": []
    },
    {
      "cell_type": "markdown",
      "metadata": {
        "id": "qxiOL9OSEtav"
      },
      "source": [
        "##学習"
      ]
    },
    {
      "cell_type": "code",
      "metadata": {
        "id": "c6wdum2JulM2"
      },
      "source": [
        "# train_df=train_df.drop(\"acquisition_credit_line\",axis=1)"
      ],
      "execution_count": 38,
      "outputs": []
    },
    {
      "cell_type": "code",
      "metadata": {
        "colab": {
          "base_uri": "https://localhost:8080/"
        },
        "id": "Kzm-o_h0E1jO",
        "outputId": "8b940a59-eb75-440c-ec16-c6d319d66d89"
      },
      "source": [
        "feature_blocks = [\n",
        "    *[OneHotEncoding(c, min_count=20) for c in ['title', 'description', 'long_title',\n",
        "       'principal_maker', 'principal_or_first_maker', 'sub_title',\n",
        "       'copyright_holder', 'more_title', 'acquisition_method',\n",
        "       'acquisition_date', 'acquisition_credit_line', 'dating_presenting_date',\n",
        "       'dating_sorting_date', 'dating_period', 'dating_year_early',\n",
        "       'dating_year_late',]],\n",
        "    *[CountEncodingBlock(c) for c in ['art_series_id', 'title', 'description', 'long_title',\n",
        "       'principal_maker', 'principal_or_first_maker', 'sub_title',\n",
        "       'copyright_holder', 'more_title', 'acquisition_method',\n",
        "       'acquisition_date', 'acquisition_credit_line', 'dating_presenting_date',\n",
        "       'dating_sorting_date', 'dating_period', 'dating_year_early',\n",
        "       'dating_year_late',]],\n",
        "    *[StringLengthBlock(c) for c in [\n",
        "        'title', 'description', 'long_title',\n",
        "       'principal_maker', 'principal_or_first_maker', 'sub_title',\n",
        "    ]],\n",
        "    *[SizeAreaBlock(c) for c in [\n",
        "        'sub_title',\n",
        "    ]],\n",
        "    PaletteBlock(),\n",
        "    ProductionPlaceBlock(),\n",
        "    ColorBlock(),\n",
        "    # W2VBlock(),\n",
        "    MaterialBlock(),\n",
        "    PrincipalMakerBlock(),\n",
        "    TechBlock(),\n",
        "    HistoricalPersonBlock(),\n",
        "    TakeTimeBlock(),\n",
        "    TfidfBlock('description'),\n",
        "    \n",
        "    # TfidfBlock('acquisition_method'),\n",
        "    TfidfBlock('title'),\n",
        "    TfidfBlock('long_title')\n",
        "]\n",
        "train_feat_df = run_blocks(train_df, blocks=feature_blocks, test=False)"
      ],
      "execution_count": 95,
      "outputs": [
        {
          "output_type": "stream",
          "text": [
            "/usr/local/lib/python3.7/dist-packages/ipykernel_launcher.py:35: SettingWithCopyWarning:\n",
            "\n",
            "\n",
            "A value is trying to be set on a copy of a slice from a DataFrame\n",
            "\n",
            "See the caveats in the documentation: https://pandas.pydata.org/pandas-docs/stable/user_guide/indexing.html#returning-a-view-versus-a-copy\n",
            "\n"
          ],
          "name": "stderr"
        },
        {
          "output_type": "stream",
          "text": [
            "★★★★★★★★★★★★★★★★★★★★ start run blocks... ★★★★★★★★★★★★★★★★★★★★\n",
            "\t- <__main__.OneHotEncoding object at 0x7fd65df8dc50> 0.013[s]\n",
            "\t- <__main__.OneHotEncoding object at 0x7fd65df8df90> 0.010[s]\n",
            "\t- <__main__.OneHotEncoding object at 0x7fd65df8d710> 0.008[s]\n",
            "\t- <__main__.OneHotEncoding object at 0x7fd65df8d450> 0.008[s]\n",
            "\t- <__main__.OneHotEncoding object at 0x7fd65df8d410> 0.007[s]\n",
            "\t- <__main__.OneHotEncoding object at 0x7fd65f6c6390> 0.009[s]\n",
            "\t- <__main__.OneHotEncoding object at 0x7fd65f6c6f90> 0.004[s]\n",
            "\t- <__main__.OneHotEncoding object at 0x7fd65f6c63d0> 0.009[s]\n",
            "\t- <__main__.OneHotEncoding object at 0x7fd65f6c6b50> 0.004[s]\n",
            "\t- <__main__.OneHotEncoding object at 0x7fd65df8d950> 0.006[s]\n",
            "\t- <__main__.OneHotEncoding object at 0x7fd65dfa1c50> 0.006[s]\n",
            "\t- <__main__.OneHotEncoding object at 0x7fd65dfa1e90> 0.007[s]\n",
            "\t- <__main__.OneHotEncoding object at 0x7fd65dfa1890> 0.007[s]\n",
            "\t- <__main__.OneHotEncoding object at 0x7fd65fbfaf50> 0.003[s]\n",
            "\t- <__main__.OneHotEncoding object at 0x7fd65fbfa150> 0.006[s]\n",
            "\t- <__main__.OneHotEncoding object at 0x7fd65fbfab90> 0.008[s]\n",
            "\t- <__main__.CountEncodingBlock object at 0x7fd65fbfac50> 0.267[s]\n",
            "\t- <__main__.CountEncodingBlock object at 0x7fd65f7b8910> 0.264[s]\n",
            "\t- <__main__.CountEncodingBlock object at 0x7fd65f6b5e90> 0.271[s]\n",
            "\t- <__main__.CountEncodingBlock object at 0x7fd65f6b5e10> 0.261[s]\n",
            "\t- <__main__.CountEncodingBlock object at 0x7fd65f6b5650> 0.252[s]\n",
            "\t- <__main__.CountEncodingBlock object at 0x7fd65f7ec150> 0.248[s]\n",
            "\t- <__main__.CountEncodingBlock object at 0x7fd65f7ecc10> 0.261[s]\n",
            "\t- <__main__.CountEncodingBlock object at 0x7fd65f71d810> 0.252[s]\n",
            "\t- <__main__.CountEncodingBlock object at 0x7fd65f71de50> 0.265[s]\n",
            "\t- <__main__.CountEncodingBlock object at 0x7fd6639c8e10> 0.253[s]\n",
            "\t- <__main__.CountEncodingBlock object at 0x7fd65f71dbd0> 0.253[s]\n",
            "\t- <__main__.CountEncodingBlock object at 0x7fd65fbb9210> 0.258[s]\n",
            "\t- <__main__.CountEncodingBlock object at 0x7fd65f6f8890> 0.250[s]\n",
            "\t- <__main__.CountEncodingBlock object at 0x7fd65f6f83d0> 0.243[s]\n",
            "\t- <__main__.CountEncodingBlock object at 0x7fd65f6f8e50> 0.249[s]\n",
            "\t- <__main__.CountEncodingBlock object at 0x7fd65f6f86d0> 0.246[s]\n",
            "\t- <__main__.CountEncodingBlock object at 0x7fd65f6f8210> 0.246[s]\n",
            "\t- <__main__.StringLengthBlock object at 0x7fd65f6f8250> 0.006[s]\n",
            "\t- <__main__.StringLengthBlock object at 0x7fd65f6f8690> 0.007[s]\n",
            "\t- <__main__.StringLengthBlock object at 0x7fd65f6f8350> 0.006[s]\n",
            "\t- <__main__.StringLengthBlock object at 0x7fd65f6f8a50> 0.006[s]\n",
            "\t- <__main__.StringLengthBlock object at 0x7fd65f6f8a90> 0.006[s]\n",
            "\t- <__main__.StringLengthBlock object at 0x7fd65f6f8110> 0.006[s]\n",
            "\t- <__main__.SizeAreaBlock object at 0x7fd65f6f85d0> 0.685[s]\n",
            "\t- <__main__.PaletteBlock object at 0x7fd65df8da50> 0.015[s]\n",
            "\t- <__main__.ProductionPlaceBlock object at 0x7fd65f655b90> 0.245[s]\n",
            "\t- <__main__.ColorBlock object at 0x7fd65f731ad0> 0.012[s]\n",
            "\t- <__main__.MaterialBlock object at 0x7fd65f84f310> 0.279[s]\n",
            "\t- <__main__.PrincipalMakerBlock object at 0x7fd65f7fd410> 0.113[s]\n",
            "\t- <__main__.TechBlock object at 0x7fd65f7fdb90> 0.184[s]\n",
            "\t- <__main__.HistoricalPersonBlock object at 0x7fd65f864710> 0.042[s]\n",
            "\t- <__main__.TakeTimeBlock object at 0x7fd65f7b8b10> 0.178[s]\n",
            "\t- <__main__.TfidfBlock object at 0x7fd65f819dd0> 5.823[s]\n",
            "\t- <__main__.TfidfBlock object at 0x7fd65f819950> 2.189[s]\n",
            "\t- <__main__.TfidfBlock object at 0x7fd65f7eca50> 3.254[s]\n",
            "run test=False 17.983[s]\n"
          ],
          "name": "stdout"
        }
      ]
    },
    {
      "cell_type": "code",
      "metadata": {
        "id": "G7V365EYxAEs"
      },
      "source": [
        ""
      ],
      "execution_count": 39,
      "outputs": []
    },
    {
      "cell_type": "code",
      "metadata": {
        "id": "2L0w8GWRE9Zu"
      },
      "source": [
        "import lightgbm as lgbm\n",
        "from sklearn.metrics import mean_squared_error\n",
        "from typing import Union, Optional, Iterable\n",
        "\n",
        "def fit_lgbm(X: np.ndarray, \n",
        "             y: np.ndarray, \n",
        "             cv: Iterable, \n",
        "             y_max: Optional[float] = None,\n",
        "             params: Optional[dict] = None, \n",
        "             verbose: Optional[int] =50):\n",
        "    \"\"\"lightGBM を CrossValidation の枠組みで学習を行なう function\"\"\"\n",
        "\n",
        "    # パラメータがないときは、空の dict で置き換える\n",
        "    if params is None:\n",
        "        params = {}\n",
        "    is_silent = verbose is None\n",
        "    is_cut_y = y_max is not None\n",
        "        \n",
        "    models = []\n",
        "    # training data の target と同じだけのゼロ配列を用意\n",
        "    oof_pred = np.zeros_like(y, dtype=np.float)\n",
        "    for i, (idx_train, idx_valid) in enumerate(cv): \n",
        "        # この部分が交差検証のところです。データセットを cv instance によって分割します\n",
        "        # training data を trian/valid に分割\n",
        "        x_train, y_train = X[idx_train], y[idx_train]\n",
        "        x_valid, y_valid = X[idx_valid], y[idx_valid]\n",
        "        \n",
        "        # 最大値が決まっている場合, 学習するデータだけ丸めを行なう\n",
        "        if is_cut_y:\n",
        "            idx_use = y_train < y_max\n",
        "            y_train = np.where(idx_use, y_train, y_max)\n",
        "        clf = lgbm.LGBMRegressor(**params)\n",
        "\n",
        "        with Timer(prefix='fit fold={} '.format(i), verbose=verbose):\n",
        "            clf.fit(x_train, y_train, \n",
        "                    eval_set=[(x_valid, y_valid)],  \n",
        "                    early_stopping_rounds=100,\n",
        "                    verbose=verbose)\n",
        "\n",
        "        pred_i = clf.predict(x_valid)\n",
        "        oof_pred[idx_valid] = pred_i\n",
        "        models.append(clf)\n",
        "        \n",
        "        if not is_silent:\n",
        "            print(f'Fold {i} RMSLE: {mean_squared_error(y_valid, pred_i) ** .5:.4f}')\n",
        "\n",
        "    if not is_silent:\n",
        "        score = mean_squared_error(y, oof_pred) ** .5\n",
        "        print('Whole RMSLE: {:.4f}'.format(score))\n",
        "    return oof_pred, models,score\n",
        "\n",
        "params = {\n",
        "    # 目的関数. これの意味で最小となるようなパラメータを探します. \n",
        "    'objective': 'rmse', \n",
        "\n",
        "     # 学習率. 小さいほどなめらかな決定境界が作られて性能向上に繋がる場合が多いです、\n",
        "    # がそれだけ木を作るため学習に時間がかかります\n",
        "    'learning_rate': .1,\n",
        "\n",
        "    # L2 Reguralization\n",
        "    'reg_lambda': 1.,\n",
        "    # こちらは L1 \n",
        "    'reg_alpha': .1,\n",
        "\n",
        "    # 木の深さ. 深い木を許容するほどより複雑な交互作用を考慮するようになります\n",
        "    'max_depth': 5, \n",
        "\n",
        "    # 木の最大数. early_stopping という枠組みで木の数は制御されるようにしていますのでとても大きい値を指定しておきます.\n",
        "    'n_estimators': 10000, \n",
        "\n",
        "    # 木を作る際に考慮する特徴量の割合. 1以下を指定すると特徴をランダムに欠落させます。小さくすることで, まんべんなく特徴を使うという効果があります.\n",
        "    'colsample_bytree': .5, \n",
        "\n",
        "    # 最小分割でのデータ数. 小さいとより細かい粒度の分割方法を許容します.\n",
        "    'min_child_samples': 10,\n",
        "\n",
        "    # bagging の頻度と割合\n",
        "    'subsample_freq': 3,\n",
        "    'subsample': .9,\n",
        "\n",
        "    # 特徴重要度計算のロジック(後述)\n",
        "    'importance_type': 'gain', \n",
        "    'random_state': 0,\n",
        "}\n",
        "\n",
        "y = train_df['likes'].values\n",
        "y = np.log1p(y)\n",
        "from sklearn.model_selection import KFold\n",
        "\n",
        "fold = KFold(n_splits=5, shuffle=True, random_state=71)\n",
        "cv = list(fold.split(train_feat_df, y)) # もともとが generator なため明示的に list に変換する\n",
        "\n"
      ],
      "execution_count": 40,
      "outputs": []
    },
    {
      "cell_type": "code",
      "metadata": {
        "colab": {
          "base_uri": "https://localhost:8080/"
        },
        "id": "SyrEZ-YWwExR",
        "outputId": "e7ea67bf-aed8-4144-a91e-4c798e3666cf"
      },
      "source": [
        "print(decorate('start training'))\n",
        "oof, models,cv_score = fit_lgbm(train_feat_df.values, y, cv, params=params, verbose=500)\n",
        "print(decorate('FINISHED'))"
      ],
      "execution_count": 41,
      "outputs": [
        {
          "output_type": "stream",
          "text": [
            "★★★★★★★★★★★★★★★★★★★★ start training ★★★★★★★★★★★★★★★★★★★★\n",
            "Training until validation scores don't improve for 100 rounds.\n",
            "Early stopping, best iteration is:\n",
            "[381]\tvalid_0's rmse: 1.03658\n",
            "fit fold=0  8.287[s]\n",
            "Fold 0 RMSLE: 1.0366\n",
            "Training until validation scores don't improve for 100 rounds.\n",
            "Early stopping, best iteration is:\n",
            "[304]\tvalid_0's rmse: 1.03934\n",
            "fit fold=1  6.111[s]\n",
            "Fold 1 RMSLE: 1.0393\n",
            "Training until validation scores don't improve for 100 rounds.\n",
            "Early stopping, best iteration is:\n",
            "[271]\tvalid_0's rmse: 1.02165\n",
            "fit fold=2  6.322[s]\n",
            "Fold 2 RMSLE: 1.0216\n",
            "Training until validation scores don't improve for 100 rounds.\n",
            "[500]\tvalid_0's rmse: 1.02019\n",
            "Early stopping, best iteration is:\n",
            "[473]\tvalid_0's rmse: 1.01979\n",
            "fit fold=3  8.752[s]\n",
            "Fold 3 RMSLE: 1.0198\n",
            "Training until validation scores don't improve for 100 rounds.\n",
            "Early stopping, best iteration is:\n",
            "[382]\tvalid_0's rmse: 1.012\n",
            "fit fold=4  7.632[s]\n",
            "Fold 4 RMSLE: 1.0120\n",
            "Whole RMSLE: 1.0259\n",
            "★★★★★★★★★★★★★★★★★★★★ FINISHED ★★★★★★★★★★★★★★★★★★★★\n"
          ],
          "name": "stdout"
        }
      ]
    },
    {
      "cell_type": "code",
      "metadata": {
        "colab": {
          "base_uri": "https://localhost:8080/",
          "height": 855
        },
        "id": "hx7QO0TNE-kL",
        "outputId": "ff34608b-9cf1-4b62-8bfc-0a6659a25714"
      },
      "source": [
        "def visualize_importance(models, feat_train_df):\n",
        "    \"\"\"lightGBM の model 配列の feature importance を plot する\n",
        "    CVごとのブレを boxen plot として表現します.\n",
        "\n",
        "    args:\n",
        "        models:\n",
        "            List of lightGBM models\n",
        "        feat_train_df:\n",
        "            学習時に使った DataFrame\n",
        "    \"\"\"\n",
        "    feature_importance_df = pd.DataFrame()\n",
        "    for i, model in enumerate(models):\n",
        "        _df = pd.DataFrame()\n",
        "        _df['feature_importance'] = model.feature_importances_\n",
        "        _df['column'] = feat_train_df.columns\n",
        "        _df['fold'] = i + 1\n",
        "        feature_importance_df = pd.concat([feature_importance_df, _df], \n",
        "                                          axis=0, ignore_index=True)\n",
        "\n",
        "    order = feature_importance_df.groupby('column')\\\n",
        "        .sum()[['feature_importance']]\\\n",
        "        .sort_values('feature_importance', ascending=False).index[3:50]\n",
        "\n",
        "    fig, ax = plt.subplots(figsize=(8, max(6, len(order) * .25)))\n",
        "    sns.boxenplot(data=feature_importance_df, \n",
        "                  x='feature_importance', \n",
        "                  y='column', \n",
        "                  order=order, \n",
        "                  ax=ax, \n",
        "                  palette='viridis', \n",
        "                  orient='h')\n",
        "    ax.tick_params(axis='x', rotation=90)\n",
        "    ax.set_title('Importance')\n",
        "    ax.grid()\n",
        "    fig.tight_layout()\n",
        "    return fig, ax\n",
        "\n",
        "fig, ax = visualize_importance(models, train_feat_df)"
      ],
      "execution_count": 42,
      "outputs": [
        {
          "output_type": "display_data",
          "data": {
            "image/png": "[encoded data removed]",
            "text/plain": [
              "<Figure size 576x846 with 1 Axes>"
            ]
          },
          "metadata": {
            "tags": [],
            "needs_background": "light"
          }
        }
      ]
    },
    {
      "cell_type": "code",
      "metadata": {
        "id": "5PtS6KkMFFZs"
      },
      "source": [
        "test_feat_df = run_blocks(input_df=test_df, blocks=feature_blocks, test=True)"
      ],
      "execution_count": null,
      "outputs": []
    },
    {
      "cell_type": "code",
      "metadata": {
        "id": "NlYbBpHr0a9D"
      },
      "source": [
        "tr_y = train_df['likes'].values\n",
        "tr_y = np.log1p(tr_y)\n",
        "target=pd.DataFrame(tr_y)\n",
        "target"
      ],
      "execution_count": null,
      "outputs": []
    },
    {
      "cell_type": "code",
      "metadata": {
        "id": "Ei8Qv1ie7bbi"
      },
      "source": [
        "train_df[\"likes\"]"
      ],
      "execution_count": null,
      "outputs": []
    },
    {
      "cell_type": "code",
      "metadata": {
        "colab": {
          "base_uri": "https://localhost:8080/"
        },
        "id": "hrcaCwBa5BJh",
        "outputId": "73e40611-d284-4326-ca2d-9aef3ffc93d2"
      },
      "source": [
        "# ---------------------------------\n",
        "# データ等の準備\n",
        "# ----------------------------------\n",
        "import numpy as np\n",
        "import pandas as pd\n",
        "train = train_feat_df.fillna(0)\n",
        "train_y = train_df['likes']\n",
        "test_x = test_feat_df.fillna(0)\n",
        "\n",
        "# 学習データを学習データとバリデーションデータに分ける\n",
        "from sklearn.model_selection import KFold\n",
        "\n",
        "kf = KFold(n_splits=4, shuffle=True, random_state=71)\n",
        "tr_idx, va_idx = list(kf.split(train))[0]\n",
        "tr_x, va_x = train.iloc[tr_idx], train.iloc[va_idx]\n",
        "tr_y, va_y = train_y.iloc[tr_idx], train_y.iloc[va_idx]\n",
        "tr_y, va_y=np.log1p(tr_y),np.log1p(va_y)\n",
        "# tensorflowの警告抑制\n",
        "import os\n",
        "os.environ['TF_CPP_MIN_LOG_LEVEL'] = '1'\n",
        "import tensorflow as tf\n",
        "tf.compat.v1.logging.set_verbosity(tf.compat.v1.logging.ERROR)\n",
        "\n",
        "# -----------------------------------\n",
        "# ニューラルネットの実装\n",
        "# -----------------------------------\n",
        "from keras.layers import Dense, Dropout\n",
        "from keras.models import Sequential\n",
        "from sklearn.metrics import log_loss\n",
        "from sklearn.preprocessing import StandardScaler\n",
        "\n",
        "# データのスケーリング\n",
        "scaler = StandardScaler()\n",
        "tr_x = scaler.fit_transform(tr_x)\n",
        "va_x = scaler.transform(va_x)\n",
        "test_x = scaler.transform(test_x)\n",
        "\n",
        "# ニューラルネットモデルの構築\n",
        "model = Sequential()\n",
        "model.add(Dense(256, activation='relu', input_shape=(train.shape[1],)))\n",
        "model.add(Dropout(0.2))\n",
        "model.add(Dense(256, activation='relu'))\n",
        "model.add(Dropout(0.2))\n",
        "model.add(Dense(1, activation='sigmoid'))\n",
        "\n",
        "model.compile(loss='mean_squared_error',\n",
        "              optimizer='adam', metrics=['accuracy'])\n",
        "\n",
        "# 学習の実行\n",
        "# バリデーションデータもモデルに渡し、学習の進行とともにスコアがどう変わるかモニタリングする\n",
        "batch_size = 128\n",
        "epochs = 10\n",
        "history = model.fit(tr_x, tr_y,\n",
        "                    batch_size=batch_size, epochs=epochs,\n",
        "                    verbose=1, validation_data=(va_x, va_y))\n",
        "\n",
        "# バリデーションデータでのスコアの確認\n",
        "va_pred = model.predict(va_x)\n",
        "score =mean_squared_error(va_y, va_pred)\n",
        "print(f'logloss: {score:.4f}')\n",
        "\n",
        "# 予測\n",
        "pred2 = model.predict(test_x)\n"
      ],
      "execution_count": 143,
      "outputs": [
        {
          "output_type": "stream",
          "text": [
            "Epoch 1/10\n",
            "71/71 [==============================] - 1s 12ms/step - loss: 3.6902 - accuracy: 0.0219 - val_loss: 3.4797 - val_accuracy: 0.0000e+00\n",
            "Epoch 2/10\n",
            "71/71 [==============================] - 1s 9ms/step - loss: 3.5385 - accuracy: 0.0151 - val_loss: 3.4121 - val_accuracy: 0.1064\n",
            "Epoch 3/10\n",
            "71/71 [==============================] - 1s 9ms/step - loss: 3.4717 - accuracy: 0.1168 - val_loss: 3.3980 - val_accuracy: 0.1207\n",
            "Epoch 4/10\n",
            "71/71 [==============================] - 1s 10ms/step - loss: 3.4639 - accuracy: 0.1482 - val_loss: 3.3973 - val_accuracy: 0.1457\n",
            "Epoch 5/10\n",
            "71/71 [==============================] - 1s 9ms/step - loss: 3.5168 - accuracy: 0.1624 - val_loss: 3.3986 - val_accuracy: 0.1530\n",
            "Epoch 6/10\n",
            "71/71 [==============================] - 1s 9ms/step - loss: 3.4427 - accuracy: 0.1647 - val_loss: 3.3961 - val_accuracy: 0.1513\n",
            "Epoch 7/10\n",
            "71/71 [==============================] - 1s 9ms/step - loss: 3.4089 - accuracy: 0.1775 - val_loss: 3.3951 - val_accuracy: 0.1520\n",
            "Epoch 8/10\n",
            "71/71 [==============================] - 1s 9ms/step - loss: 3.3591 - accuracy: 0.1864 - val_loss: 3.3973 - val_accuracy: 0.1656\n",
            "Epoch 9/10\n",
            "71/71 [==============================] - 1s 9ms/step - loss: 3.4916 - accuracy: 0.1887 - val_loss: 3.4047 - val_accuracy: 0.1653\n",
            "Epoch 10/10\n",
            "71/71 [==============================] - 1s 9ms/step - loss: 3.5856 - accuracy: 0.1978 - val_loss: 3.4052 - val_accuracy: 0.1620\n",
            "logloss: 3.4052\n"
          ],
          "name": "stdout"
        }
      ]
    },
    {
      "cell_type": "code",
      "metadata": {
        "colab": {
          "base_uri": "https://localhost:8080/"
        },
        "id": "ciFyXiFwBtyw",
        "outputId": "0c5c64ff-0ad5-4228-e14f-6c317a5aa20b"
      },
      "source": [
        "pred2=_pred2\n",
        "pred2"
      ],
      "execution_count": 162,
      "outputs": [
        {
          "output_type": "execute_result",
          "data": {
            "text/plain": [
              "array([[0.84771657],\n",
              "       [1.        ],\n",
              "       [0.83257926],\n",
              "       ...,\n",
              "       [0.19584426],\n",
              "       [0.01500303],\n",
              "       [0.84649473]], dtype=float32)"
            ]
          },
          "metadata": {
            "tags": []
          },
          "execution_count": 162
        }
      ]
    },
    {
      "cell_type": "code",
      "metadata": {
        "id": "HaanhTGWCKSG"
      },
      "source": [
        "pred__=[]\n",
        "\n",
        "for i in range(pred2.shape[0]):\n",
        "    pred__.append(pred2[i][0])\n",
        "# pred__[0]"
      ],
      "execution_count": 165,
      "outputs": []
    },
    {
      "cell_type": "code",
      "metadata": {
        "id": "Dud2cNaDCyRf"
      },
      "source": [
        "pred2=pred__"
      ],
      "execution_count": 166,
      "outputs": []
    },
    {
      "cell_type": "code",
      "metadata": {
        "id": "qEGZnw738Zoa"
      },
      "source": [
        "def revert_to_real(y_log):\n",
        "    # _pred = np.expm1(y_log)\n",
        "    _pred = np.where(_pred < 0, 0, _pred)\n",
        "    return _pred\n",
        "# pred2= np.array(pred2)\n",
        "# pred2 = revert_to_real(pred2)\n",
        "sub_df = pd.DataFrame({ 'likes': pred2 })\n",
        "sub_df.to_csv(os.path.join(OUTPUT_DIR, 'nn__submission.csv'), index=False)"
      ],
      "execution_count": 168,
      "outputs": []
    },
    {
      "cell_type": "code",
      "metadata": {
        "colab": {
          "base_uri": "https://localhost:8080/",
          "height": 483
        },
        "id": "P8gUX-VYBhdP",
        "outputId": "31ac381b-20c6-4d11-851b-85bcda368f67"
      },
      "source": [
        "fig, ax = plt.subplots(figsize=(8, 8))\n",
        "sns.histplot(np.log1p(pred2), label='Test Predict', ax=ax, color='black')\n",
        "sns.histplot(oof, label='Out Of Fold', ax=ax, color='C1')\n",
        "ax.legend()\n",
        "ax.grid()"
      ],
      "execution_count": 169,
      "outputs": [
        {
          "output_type": "display_data",
          "data": {
            "image/png": "[encoded data removed]",
            "text/plain": [
              "<Figure size 576x576 with 1 Axes>"
            ]
          },
          "metadata": {
            "tags": [],
            "needs_background": "light"
          }
        }
      ]
    },
    {
      "cell_type": "code",
      "metadata": {
        "id": "tVBkikfTtNQv"
      },
      "source": [
        "num=19\n",
        "zipname=str(num)+\"sub\""
      ],
      "execution_count": 119,
      "outputs": []
    },
    {
      "cell_type": "code",
      "metadata": {
        "id": "7QkgqdjyFHSr"
      },
      "source": [
        "def revert_to_real(y_log):\n",
        "    _pred = np.expm1(y_log)\n",
        "    _pred = np.where(_pred < 0, 0, _pred)\n",
        "    return _pred\n",
        "pred = np.array([model.predict(test_feat_df.values) for model in models])\n",
        "pred = np.mean(pred, axis=0)\n",
        "pred = revert_to_real(pred)\n",
        "sub_df = pd.DataFrame({ 'likes': pred })\n",
        "sub_df.to_csv(os.path.join(OUTPUT_DIR, str(num)+'__submission.csv'), index=False)"
      ],
      "execution_count": 120,
      "outputs": []
    },
    {
      "cell_type": "code",
      "metadata": {
        "colab": {
          "base_uri": "https://localhost:8080/"
        },
        "id": "69xiDTdZATAm",
        "outputId": "d6b0db06-7e3e-4e60-8d97-f18c544a3060"
      },
      "source": [
        "pred"
      ],
      "execution_count": 121,
      "outputs": [
        {
          "output_type": "execute_result",
          "data": {
            "text/plain": [
              "array([ 0.71828443, 25.69002946,  1.15807264, ...,  0.33167385,\n",
              "        0.15530094,  0.84902753])"
            ]
          },
          "metadata": {
            "tags": []
          },
          "execution_count": 121
        }
      ]
    },
    {
      "cell_type": "code",
      "metadata": {
        "colab": {
          "base_uri": "https://localhost:8080/",
          "height": 485
        },
        "id": "71CXOtIGFIPm",
        "outputId": "82ae7086-67b2-4afb-a266-f30c5d3c1863"
      },
      "source": [
        "fig, ax = plt.subplots(figsize=(8, 8))\n",
        "sns.histplot(np.log1p(pred), label='Test Predict', ax=ax, color='black')\n",
        "sns.histplot(oof, label='Out Of Fold', ax=ax, color='C1')\n",
        "ax.legend()\n",
        "ax.grid()"
      ],
      "execution_count": 61,
      "outputs": [
        {
          "output_type": "display_data",
          "data": {
            "image/png": "[encoded data removed]",
            "text/plain": [
              "<Figure size 576x576 with 1 Axes>"
            ]
          },
          "metadata": {
            "tags": [],
            "needs_background": "light"
          }
        }
      ]
    },
    {
      "cell_type": "markdown",
      "metadata": {
        "id": "1WbWrzQNiogC"
      },
      "source": [
        "#記録用"
      ]
    },
    {
      "cell_type": "code",
      "metadata": {
        "colab": {
          "base_uri": "https://localhost:8080/",
          "height": 35
        },
        "id": "LqHCaNqRFQiA",
        "outputId": "d9360063-b56a-4c95-f784-92d0e1e1bf29"
      },
      "source": [
        "# たとえばこんな感じで実行したら notebook をコピーするとかもいいかも\n",
        "import shutil\n",
        "\n",
        "shutil.copy('Colab Notebooks/atma#10/atma_10.ipynb', OUTPUT_DIR)\n",
        "if num>1:\n",
        "    os.remove(os.path.join(OUTPUT_DIR, str(num-1)+'__submission.csv'))\n",
        "# まとめて zipfile 化するという手もある\n",
        "shutil.make_archive(os.path.join(os.path.dirname(OUTPUT_DIR), zipname), 'zip', OUTPUT_DIR)\n",
        "\n"
      ],
      "execution_count": 44,
      "outputs": [
        {
          "output_type": "execute_result",
          "data": {
            "application/vnd.google.colaboratory.intrinsic+json": {
              "type": "string"
            },
            "text/plain": [
              "'/content/drive/My Drive/Colab Notebooks/atma#10/14sub.zip'"
            ]
          },
          "metadata": {
            "tags": []
          },
          "execution_count": 44
        }
      ]
    },
    {
      "cell_type": "code",
      "metadata": {
        "id": "ZhiQd60nm36A"
      },
      "source": [
        "public=0.9887\n",
        "private=1.0148"
      ],
      "execution_count": 73,
      "outputs": []
    },
    {
      "cell_type": "code",
      "metadata": {
        "colab": {
          "base_uri": "https://localhost:8080/",
          "height": 135
        },
        "id": "REBcdQSwm3uL",
        "outputId": "70a2e236-192e-4997-c4e5-4808123b0f11"
      },
      "source": [
        "break"
      ],
      "execution_count": 46,
      "outputs": [
        {
          "output_type": "error",
          "ename": "SyntaxError",
          "evalue": "ignored",
          "traceback": [
            "\u001b[0;36m  File \u001b[0;32m\"<ipython-input-46-6aaf1f276005>\"\u001b[0;36m, line \u001b[0;32m1\u001b[0m\n\u001b[0;31m    break\u001b[0m\n\u001b[0m         ^\u001b[0m\n\u001b[0;31mSyntaxError\u001b[0m\u001b[0;31m:\u001b[0m 'break' outside loop\n"
          ]
        }
      ]
    },
    {
      "cell_type": "code",
      "metadata": {
        "id": "wpR33aG9lFH6"
      },
      "source": [
        "li=[[num,'{:.5f}'.format(cv_score),public,private]]\n",
        "df = pd.DataFrame(li)\n",
        "df.columns = [\"n\",\"CV\",\"public\",\"private\"]\n",
        "df.to_csv(os.path.join(OUTPUT_DIR, 'sublog.csv'),mode=\"a\",header=False,index=False)\n"
      ],
      "execution_count": 74,
      "outputs": []
    },
    {
      "cell_type": "code",
      "metadata": {
        "id": "cqjBSowiw3sE",
        "colab": {
          "base_uri": "https://localhost:8080/",
          "height": 283
        },
        "outputId": "d75499f7-42a4-4f49-e80f-f5157d15be87"
      },
      "source": [
        "from matplotlib.ticker import *\n",
        "\n",
        "sub_df=pd.read_csv(os.path.join(OUTPUT_DIR, 'sublog.csv'))\n",
        "x=sub_df[\"n\"]\n",
        "y=sub_df[\"CV\"]\n",
        "y2=sub_df[\"public\"]\n",
        "fig = plt.figure()\n",
        "ax = fig.add_subplot(1,1,1)\n",
        "ax.scatter(x,y, c='b',label=\"CV\")\n",
        "ax.scatter(x,y2, c='r',label=\"public\")\n",
        "ax.set_xlabel('n')\n",
        "ax.set_ylabel('score')\n",
        "ax.legend(loc='upper right')\n",
        "ax.xaxis.set_major_locator(MultipleLocator(1)) \n",
        "plt.ylim(0.95,1.1)\n",
        "ax.grid(True)\n",
        "fig.show()\n",
        "plt.savefig(os.path.join(OUTPUT_DIR,'subdata.png'))"
      ],
      "execution_count": 75,
      "outputs": [
        {
          "output_type": "display_data",
          "data": {
            "image/png": "[encoded data removed]",
            "text/plain": [
              "<Figure size 432x288 with 1 Axes>"
            ]
          },
          "metadata": {
            "tags": [],
            "needs_background": "light"
          }
        }
      ]
    },
    {
      "cell_type": "code",
      "metadata": {
        "id": "fT4WeGPTmtgG"
      },
      "source": [
        "#1 baseline\n",
        "#2 tfidf\n",
        "#3 matelial\n",
        "#4 technique\n",
        "#7 何年かけて作ったか\n",
        "#13 colorblock"
      ],
      "execution_count": null,
      "outputs": []
    },
    {
      "cell_type": "code",
      "metadata": {
        "id": "4OQVVKIsuEnj"
      },
      "source": [
        "sub_df[\"pubic\"][num-1]="
      ],
      "execution_count": null,
      "outputs": []
    },
    {
      "cell_type": "code",
      "metadata": {
        "id": "jHdEwDjNuEff"
      },
      "source": [
        "sub_df[\"n\"]"
      ],
      "execution_count": null,
      "outputs": []
    },
    {
      "cell_type": "code",
      "metadata": {
        "id": "gpnpptYHRape"
      },
      "source": [
        ""
      ],
      "execution_count": null,
      "outputs": []
    }
  ]
}